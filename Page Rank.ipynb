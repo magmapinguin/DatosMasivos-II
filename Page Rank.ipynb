{
 "cells": [
  {
   "cell_type": "markdown",
   "metadata": {},
   "source": [
    "# Implementacion del algoritmo de Page Rank\n",
    "Utilizando la base de datos  de socslashdot una red social en la que se tienen dos columnas una que representa un nodo \n",
    "y la otra un nodo al cual hace referencia cada nodo puede hacer referencia a mas de un nodo cada columna con 70068 elementos"
   ]
  },
  {
   "cell_type": "code",
   "execution_count": 139,
   "metadata": {},
   "outputs": [],
   "source": [
    "#Importamos scipy para moder manejar matrices dispersas y network por su modulo para crear matrices de adyacencia\n",
    "from scipy.io import mmread\n",
    "import pandas as pd \n",
    "import numpy as np\n",
    "import networkx as nx\n",
    "import scipy"
   ]
  },
  {
   "cell_type": "markdown",
   "metadata": {},
   "source": [
    "### Implementacion con ejemplo pequeño para ser ilustrativo\n",
    "Con fines ilustrativos decidi crear un set de datos pequeño para poder ir viendo cada una de las operaciones ya que con el set de datos real es muy complicado "
   ]
  },
  {
   "cell_type": "code",
   "execution_count": 89,
   "metadata": {},
   "outputs": [
    {
     "data": {
      "text/html": [
       "<div>\n",
       "<style scoped>\n",
       "    .dataframe tbody tr th:only-of-type {\n",
       "        vertical-align: middle;\n",
       "    }\n",
       "\n",
       "    .dataframe tbody tr th {\n",
       "        vertical-align: top;\n",
       "    }\n",
       "\n",
       "    .dataframe thead th {\n",
       "        text-align: right;\n",
       "    }\n",
       "</style>\n",
       "<table border=\"1\" class=\"dataframe\">\n",
       "  <thead>\n",
       "    <tr style=\"text-align: right;\">\n",
       "      <th></th>\n",
       "      <th>source</th>\n",
       "      <th>target</th>\n",
       "    </tr>\n",
       "  </thead>\n",
       "  <tbody>\n",
       "    <tr>\n",
       "      <td>0</td>\n",
       "      <td>0</td>\n",
       "      <td>1</td>\n",
       "    </tr>\n",
       "    <tr>\n",
       "      <td>1</td>\n",
       "      <td>0</td>\n",
       "      <td>2</td>\n",
       "    </tr>\n",
       "    <tr>\n",
       "      <td>2</td>\n",
       "      <td>1</td>\n",
       "      <td>0</td>\n",
       "    </tr>\n",
       "    <tr>\n",
       "      <td>3</td>\n",
       "      <td>1</td>\n",
       "      <td>1</td>\n",
       "    </tr>\n",
       "  </tbody>\n",
       "</table>\n",
       "</div>"
      ],
      "text/plain": [
       "   source  target\n",
       "0       0       1\n",
       "1       0       2\n",
       "2       1       0\n",
       "3       1       1"
      ]
     },
     "execution_count": 89,
     "metadata": {},
     "output_type": "execute_result"
    }
   ],
   "source": [
    "#Convertimos un txt a un df de pandas \n",
    "datos3 = pd.read_csv(\"toy2.txt\", skiprows=0, sep=\",\")\n",
    "datos4 = datos3[[\"source\",\"target\"]]\n",
    "datos4"
   ]
  },
  {
   "cell_type": "markdown",
   "metadata": {},
   "source": [
    "Usando la funcion de network x creamos un objeto digrapg que es un objeto que ilustra las relaciones en un set de datos y permite reconocer lo que buscamos que son nodos y relaciones"
   ]
  },
  {
   "cell_type": "code",
   "execution_count": 90,
   "metadata": {},
   "outputs": [
    {
     "data": {
      "text/plain": [
       "networkx.classes.digraph.DiGraph"
      ]
     },
     "execution_count": 90,
     "metadata": {},
     "output_type": "execute_result"
    }
   ],
   "source": [
    "#Creamos el objeto digraph que permite establecer relaciones y nodos\n",
    "G1 = nx.from_pandas_edgelist(datos4, \"source\", \"target\", edge_attr=True, create_using=nx.DiGraph())\n",
    "type(G1)"
   ]
  },
  {
   "cell_type": "code",
   "execution_count": 91,
   "metadata": {},
   "outputs": [
    {
     "name": "stdout",
     "output_type": "stream",
     "text": [
      "[[0 1 1]\n",
      " [1 1 0]\n",
      " [0 0 0]]\n"
     ]
    },
    {
     "data": {
      "text/plain": [
       "scipy.sparse.csr.csr_matrix"
      ]
     },
     "execution_count": 91,
     "metadata": {},
     "output_type": "execute_result"
    }
   ],
   "source": [
    "#Convertimos el objeto digraph en una matriz de adyacencia\n",
    "A1 = nx.adjacency_matrix(G1)\n",
    "print(A1.todense())\n",
    "type(A1)"
   ]
  },
  {
   "cell_type": "code",
   "execution_count": 92,
   "metadata": {},
   "outputs": [
    {
     "name": "stdout",
     "output_type": "stream",
     "text": [
      "[[0.5]\n",
      " [0.5]\n",
      " [inf]]\n"
     ]
    },
    {
     "name": "stderr",
     "output_type": "stream",
     "text": [
      "C:\\Users\\mjsto\\Anaconda3\\lib\\site-packages\\ipykernel_launcher.py:2: RuntimeWarning: divide by zero encountered in true_divide\n",
      "  \n"
     ]
    }
   ],
   "source": [
    "#Una vez que obtenemos la matriz de adyacencia es necesario obtener un vector que sea la suma de cada columna de la matriz\n",
    "\n",
    "S1 = scipy.sparse.csr_matrix(1/A1.sum(1))\n",
    "print(S1.todense())"
   ]
  },
  {
   "cell_type": "code",
   "execution_count": 95,
   "metadata": {},
   "outputs": [
    {
     "name": "stdout",
     "output_type": "stream",
     "text": [
      "[[0.  0.5 0.5]\n",
      " [0.5 0.5 0. ]\n",
      " [0.  0.  0. ]]\n"
     ]
    }
   ],
   "source": [
    "#multiplicamos el vector por la matriz de adyacencia y obtenemos nuestra matriz estocastica\n",
    "CA = A1.multiply(S1)\n",
    "print(CA.todense())"
   ]
  },
  {
   "cell_type": "code",
   "execution_count": 140,
   "metadata": {},
   "outputs": [
    {
     "name": "stdout",
     "output_type": "stream",
     "text": [
      "  (0, 2)\t0.5\n",
      "  (0, 1)\t0.5\n",
      "  (1, 1)\t0.5\n",
      "  (1, 0)\t0.5\n"
     ]
    }
   ],
   "source": [
    "#Eliminamos los NaN\n",
    "CA.data = np.nan_to_num(CA.data, copy=False)\n",
    "print(CA)"
   ]
  },
  {
   "cell_type": "code",
   "execution_count": 135,
   "metadata": {},
   "outputs": [],
   "source": [
    "#Definimos la funcion de pagerank convencional\n",
    "import numpy as np\n",
    "from scipy.sparse import csr_matrix\n",
    "\n",
    "def pagerank(M, iter=100):\n",
    "  n = M.shape[0]\n",
    "  r = np.ones(n) / n\n",
    "  for i in range(iter):\n",
    "    print('Iteración {0}: r = {1}'.format(i,r))\n",
    "    r = M @ r\n",
    "\n",
    "  return r"
   ]
  },
  {
   "cell_type": "code",
   "execution_count": 137,
   "metadata": {},
   "outputs": [
    {
     "name": "stdout",
     "output_type": "stream",
     "text": [
      "Iteración 0: r = [0.33333333 0.33333333 0.33333333]\n",
      "Iteración 1: r = [0.33333333 0.33333333 0.        ]\n",
      "Iteración 2: r = [0.16666667 0.33333333 0.        ]\n",
      "Iteración 3: r = [0.16666667 0.25       0.        ]\n",
      "Iteración 4: r = [0.125      0.20833333 0.        ]\n",
      "Iteración 5: r = [0.10416667 0.16666667 0.        ]\n",
      "Iteración 6: r = [0.08333333 0.13541667 0.        ]\n",
      "Iteración 7: r = [0.06770833 0.109375   0.        ]\n",
      "Iteración 8: r = [0.0546875  0.08854167 0.        ]\n",
      "Iteración 9: r = [0.04427083 0.07161458 0.        ]\n",
      "Iteración 10: r = [0.03580729 0.05794271 0.        ]\n",
      "Iteración 11: r = [0.02897135 0.046875   0.        ]\n",
      "Iteración 12: r = [0.0234375  0.03792318 0.        ]\n",
      "Iteración 13: r = [0.01896159 0.03068034 0.        ]\n",
      "Iteración 14: r = [0.01534017 0.02482096 0.        ]\n",
      "Iteración 15: r = [0.01241048 0.02008057 0.        ]\n",
      "Iteración 16: r = [0.01004028 0.01624552 0.        ]\n",
      "Iteración 17: r = [0.00812276 0.0131429  0.        ]\n",
      "Iteración 18: r = [0.00657145 0.01063283 0.        ]\n",
      "Iteración 19: r = [0.00531642 0.00860214 0.        ]\n"
     ]
    },
    {
     "data": {
      "text/plain": [
       "array([0.00430107, 0.00695928, 0.        ])"
      ]
     },
     "execution_count": 137,
     "metadata": {},
     "output_type": "execute_result"
    }
   ],
   "source": [
    "#Corremos\n",
    "pagerank(CA, 20)"
   ]
  },
  {
   "cell_type": "code",
   "execution_count": 121,
   "metadata": {},
   "outputs": [],
   "source": [
    "#Definimos pagerank escalado\n",
    "def pagerank_escalable_css(M, beta = 0.8, iter=20):\n",
    "  n = M.shape[0]\n",
    "  r = np.ones(n) / n\n",
    "  for i in range(iter):\n",
    "    print('Iteración {0}: r = {1}'.format(i,r))\n",
    "    rhat = beta * M @ r\n",
    "    umrsn = (1 - rhat.sum()) / n\n",
    "    r = rhat + umrsn\n",
    "\n",
    "  return r"
   ]
  },
  {
   "cell_type": "code",
   "execution_count": 141,
   "metadata": {},
   "outputs": [
    {
     "name": "stdout",
     "output_type": "stream",
     "text": [
      "Iteración 0: r = [0.33333333 0.33333333 0.33333333]\n",
      "Iteración 1: r = [0.42222222 0.42222222 0.15555556]\n",
      "Iteración 2: r = [0.37481481 0.48148148 0.1437037 ]\n",
      "Iteración 3: r = [0.38587654 0.47832099 0.13580247]\n",
      "Iteración 4: r = [0.38187325 0.48190288 0.13622387]\n",
      "Iteración 5: r = [0.38299698 0.48125674 0.13574628]\n",
      "Iteración 6: r = [0.38263364 0.48153392 0.13583244]\n",
      "Iteración 7: r = [0.38274202 0.4814625  0.13579548]\n",
      "Iteración 8: r = [0.38270819 0.48148681 0.135805  ]\n",
      "Iteración 9: r = [0.38271848 0.48147976 0.13580176]\n",
      "Iteración 10: r = [0.38271531 0.481482   0.1358027 ]\n",
      "Iteración 11: r = [0.38271628 0.48148132 0.1358024 ]\n",
      "Iteración 12: r = [0.38271598 0.48148153 0.13580249]\n",
      "Iteración 13: r = [0.38271607 0.48148147 0.13580246]\n",
      "Iteración 14: r = [0.38271604 0.48148149 0.13580247]\n",
      "Iteración 15: r = [0.38271605 0.48148148 0.13580247]\n",
      "Iteración 16: r = [0.38271605 0.48148148 0.13580247]\n",
      "Iteración 17: r = [0.38271605 0.48148148 0.13580247]\n",
      "Iteración 18: r = [0.38271605 0.48148148 0.13580247]\n",
      "Iteración 19: r = [0.38271605 0.48148148 0.13580247]\n"
     ]
    }
   ],
   "source": [
    "#Corremos\n",
    "sinnan2 = pagerank_escalable_css(csr_matrix(CA), 0.8, iter=20)"
   ]
  },
  {
   "cell_type": "markdown",
   "metadata": {},
   "source": [
    "## Ejemplo real"
   ]
  },
  {
   "cell_type": "code",
   "execution_count": 100,
   "metadata": {},
   "outputs": [],
   "source": [
    "#Convertimos el archivo mtx a un df de pandas \n",
    "datos = pd.read_csv(\"socslashdot.mtx\", skiprows=1, sep=\" \")\n",
    "datos2 = datos[[\"70068\",\"70068.1\"]]"
   ]
  },
  {
   "cell_type": "code",
   "execution_count": 101,
   "metadata": {},
   "outputs": [
    {
     "data": {
      "text/plain": [
       "395      2027\n",
       "2479     1914\n",
       "378      1700\n",
       "226      1640\n",
       "35       1437\n",
       "         ... \n",
       "18285       1\n",
       "28520       1\n",
       "8038        1\n",
       "16226       1\n",
       "58690       1\n",
       "Name: 70068.1, Length: 28910, dtype: int64"
      ]
     },
     "execution_count": 101,
     "metadata": {},
     "output_type": "execute_result"
    }
   ],
   "source": [
    "datos2[\"70068.1\"].value_counts()"
   ]
  },
  {
   "cell_type": "code",
   "execution_count": 102,
   "metadata": {},
   "outputs": [
    {
     "data": {
      "text/plain": [
       "networkx.classes.digraph.DiGraph"
      ]
     },
     "execution_count": 102,
     "metadata": {},
     "output_type": "execute_result"
    }
   ],
   "source": [
    "G = nx.from_pandas_edgelist(datos2, \"70068.1\", \"70068\", edge_attr=True, create_using=nx.DiGraph())\n",
    "type(G)"
   ]
  },
  {
   "cell_type": "code",
   "execution_count": 103,
   "metadata": {},
   "outputs": [
    {
     "name": "stdout",
     "output_type": "stream",
     "text": [
      "[[0 1 1 ... 0 0 0]\n",
      " [0 0 0 ... 0 0 0]\n",
      " [0 0 0 ... 0 0 0]\n",
      " ...\n",
      " [0 0 0 ... 0 0 0]\n",
      " [0 0 0 ... 0 0 1]\n",
      " [0 0 0 ... 0 0 0]]\n"
     ]
    },
    {
     "data": {
      "text/plain": [
       "scipy.sparse.csr.csr_matrix"
      ]
     },
     "execution_count": 103,
     "metadata": {},
     "output_type": "execute_result"
    }
   ],
   "source": [
    "A = nx.adjacency_matrix(G)\n",
    "print(A.todense())\n",
    "type(A)\n"
   ]
  },
  {
   "cell_type": "code",
   "execution_count": 133,
   "metadata": {},
   "outputs": [
    {
     "name": "stderr",
     "output_type": "stream",
     "text": [
      "C:\\Users\\mjsto\\Anaconda3\\lib\\site-packages\\ipykernel_launcher.py:2: RuntimeWarning: divide by zero encountered in true_divide\n",
      "  \n"
     ]
    }
   ],
   "source": [
    "import scipy\n",
    "S = scipy.sparse.csr_matrix(1/A.sum(1))"
   ]
  },
  {
   "cell_type": "code",
   "execution_count": 134,
   "metadata": {},
   "outputs": [],
   "source": [
    "MA = A.multiply(S)\n"
   ]
  },
  {
   "cell_type": "code",
   "execution_count": 130,
   "metadata": {},
   "outputs": [],
   "source": [
    "MA.data = np.nan_to_num(MA.data, copy=False)"
   ]
  },
  {
   "cell_type": "code",
   "execution_count": 118,
   "metadata": {},
   "outputs": [
    {
     "data": {
      "text/plain": [
       "<70068x70068 sparse matrix of type '<class 'numpy.float64'>'\n",
       "\twith 358647 stored elements in Compressed Sparse Row format>"
      ]
     },
     "execution_count": 118,
     "metadata": {},
     "output_type": "execute_result"
    }
   ],
   "source": [
    "MA"
   ]
  },
  {
   "cell_type": "code",
   "execution_count": 136,
   "metadata": {},
   "outputs": [
    {
     "name": "stdout",
     "output_type": "stream",
     "text": [
      "Iteración 0: r = [1.42718502e-05 1.42718502e-05 1.42718502e-05 ... 1.42718502e-05\n",
      " 1.42718502e-05 1.42718502e-05]\n",
      "Iteración 1: r = [1.42718502e-05 1.42718502e-05 1.42718502e-05 ... 0.00000000e+00\n",
      " 1.42718502e-05 0.00000000e+00]\n",
      "Iteración 2: r = [1.35954592e-05 1.41713442e-05 1.42718502e-05 ... 0.00000000e+00\n",
      " 0.00000000e+00 0.00000000e+00]\n",
      "Iteración 3: r = [1.27152564e-05 1.22204316e-05 1.28771213e-05 ... 0.00000000e+00\n",
      " 0.00000000e+00 0.00000000e+00]\n",
      "Iteración 4: r = [1.05325596e-05 8.77588088e-06 9.96700631e-06 ... 0.00000000e+00\n",
      " 0.00000000e+00 0.00000000e+00]\n",
      "Iteración 5: r = [7.06056276e-06 4.98473195e-06 6.50321028e-06 ... 0.00000000e+00\n",
      " 0.00000000e+00 0.00000000e+00]\n",
      "Iteración 6: r = [4.00659030e-06 2.38672102e-06 3.56353666e-06 ... 0.00000000e+00\n",
      " 0.00000000e+00 0.00000000e+00]\n",
      "Iteración 7: r = [1.90391237e-06 9.74205705e-07 1.68155850e-06 ... 0.00000000e+00\n",
      " 0.00000000e+00 0.00000000e+00]\n",
      "Iteración 8: r = [8.03338858e-07 3.49274418e-07 6.89827964e-07 ... 0.00000000e+00\n",
      " 0.00000000e+00 0.00000000e+00]\n",
      "Iteración 9: r = [2.97570533e-07 1.11124673e-07 2.51382288e-07 ... 0.00000000e+00\n",
      " 0.00000000e+00 0.00000000e+00]\n",
      "Iteración 10: r = [1.00230649e-07 3.22652129e-08 8.26076395e-08 ... 0.00000000e+00\n",
      " 0.00000000e+00 0.00000000e+00]\n",
      "Iteración 11: r = [3.08216498e-08 8.68904937e-09 2.48719495e-08 ... 0.00000000e+00\n",
      " 0.00000000e+00 0.00000000e+00]\n",
      "Iteración 12: r = [8.79010601e-09 2.21898825e-09 6.97121364e-09 ... 0.00000000e+00\n",
      " 0.00000000e+00 0.00000000e+00]\n",
      "Iteración 13: r = [2.35112790e-09 5.39262004e-10 1.82597481e-09 ... 0.00000000e+00\n",
      " 0.00000000e+00 0.00000000e+00]\n",
      "Iteración 14: r = [5.97546247e-10 1.24290245e-10 4.44553535e-10 ... 0.00000000e+00\n",
      " 0.00000000e+00 0.00000000e+00]\n",
      "Iteración 15: r = [1.39382702e-10 2.71088657e-11 1.03547303e-10 ... 0.00000000e+00\n",
      " 0.00000000e+00 0.00000000e+00]\n",
      "Iteración 16: r = [3.16748438e-11 5.65844590e-12 2.28666047e-11 ... 0.00000000e+00\n",
      " 0.00000000e+00 0.00000000e+00]\n",
      "Iteración 17: r = [6.80323495e-12 1.13126142e-12 4.85475865e-12 ... 0.00000000e+00\n",
      " 0.00000000e+00 0.00000000e+00]\n",
      "Iteración 18: r = [1.41059715e-12 2.17638599e-13 9.86094811e-13 ... 0.00000000e+00\n",
      " 0.00000000e+00 0.00000000e+00]\n",
      "Iteración 19: r = [2.79638256e-13 4.03592293e-14 1.92562513e-13 ... 0.00000000e+00\n",
      " 0.00000000e+00 0.00000000e+00]\n"
     ]
    },
    {
     "data": {
      "text/plain": [
       "array([5.31921968e-14, 7.15251692e-15, 3.59941258e-14, ...,\n",
       "       0.00000000e+00, 0.00000000e+00, 0.00000000e+00])"
      ]
     },
     "execution_count": 136,
     "metadata": {},
     "output_type": "execute_result"
    }
   ],
   "source": [
    "pagerank(MA, 20)"
   ]
  },
  {
   "cell_type": "code",
   "execution_count": 122,
   "metadata": {},
   "outputs": [
    {
     "name": "stdout",
     "output_type": "stream",
     "text": [
      "Iteración 0: r = [1.42718502e-05 1.42718502e-05 1.42718502e-05 ... 1.42718502e-05\n",
      " 1.42718502e-05 1.42718502e-05]\n",
      "Iteración 1: r = [2.09784873e-05 2.09784873e-05 2.09784873e-05 ... 9.56100714e-06\n",
      " 2.09784873e-05 9.56100714e-06]\n",
      "Iteración 2: r = [2.53565440e-05 2.57251105e-05 2.57894343e-05 ... 9.00664444e-06\n",
      " 1.66554502e-05 9.00664444e-06]\n",
      "Iteración 3: r = [2.85917741e-05 2.85853341e-05 2.89646510e-05 ... 9.04720481e-06\n",
      " 1.62525204e-05 9.04720481e-06]\n",
      "Iteración 4: r = [3.04907837e-05 2.98341175e-05 3.05878399e-05 ... 9.08649334e-06\n",
      " 1.63242572e-05 9.08649334e-06]\n",
      "Iteración 5: r = [3.11992043e-05 3.01107221e-05 3.11881015e-05 ... 9.10203358e-06\n",
      " 1.63712283e-05 9.10203358e-06]\n",
      "Iteración 6: r = [3.13758024e-05 3.01154475e-05 3.13192645e-05 ... 9.10468873e-06\n",
      " 1.63863156e-05 9.10468873e-06]\n",
      "Iteración 7: r = [3.13797504e-05 3.00886668e-05 3.13220534e-05 ... 9.10412746e-06\n",
      " 1.63878784e-05 9.10412746e-06]\n",
      "Iteración 8: r = [3.13682008e-05 3.00776676e-05 3.13103771e-05 ... 9.10368079e-06\n",
      " 1.63869828e-05 9.10368079e-06]\n",
      "Iteración 9: r = [3.13625777e-05 3.00758143e-05 3.13055654e-05 ... 9.10355197e-06\n",
      " 1.63864966e-05 9.10355197e-06]\n",
      "Iteración 10: r = [3.13616320e-05 3.00761908e-05 3.13048024e-05 ... 9.10354589e-06\n",
      " 1.63863875e-05 9.10354589e-06]\n",
      "Iteración 11: r = [3.13617855e-05 3.00765147e-05 3.13049699e-05 ... 9.10355613e-06\n",
      " 1.63863928e-05 9.10355613e-06]\n",
      "Iteración 12: r = [3.13619367e-05 3.00766046e-05 3.13051094e-05 ... 9.10356076e-06\n",
      " 1.63864057e-05 9.10356076e-06]\n",
      "Iteración 13: r = [3.13619806e-05 3.00766078e-05 3.13051463e-05 ... 9.10356151e-06\n",
      " 1.63864101e-05 9.10356151e-06]\n",
      "Iteración 14: r = [3.13619831e-05 3.00766003e-05 3.13051469e-05 ... 9.10356136e-06\n",
      " 1.63864106e-05 9.10356136e-06]\n",
      "Iteración 15: r = [3.13619796e-05 3.00765971e-05 3.13051438e-05 ... 9.10356123e-06\n",
      " 1.63864103e-05 9.10356123e-06]\n",
      "Iteración 16: r = [3.13619781e-05 3.00765966e-05 3.13051425e-05 ... 9.10356120e-06\n",
      " 1.63864102e-05 9.10356120e-06]\n",
      "Iteración 17: r = [3.13619779e-05 3.00765967e-05 3.13051423e-05 ... 9.10356119e-06\n",
      " 1.63864102e-05 9.10356119e-06]\n",
      "Iteración 18: r = [3.13619779e-05 3.00765968e-05 3.13051423e-05 ... 9.10356120e-06\n",
      " 1.63864102e-05 9.10356120e-06]\n",
      "Iteración 19: r = [3.13619779e-05 3.00765969e-05 3.13051423e-05 ... 9.10356120e-06\n",
      " 1.63864102e-05 9.10356120e-06]\n"
     ]
    }
   ],
   "source": [
    "sinnan2 = pagerank_escalable_css(csr_matrix(MA), 0.8, iter=20)"
   ]
  }
 ],
 "metadata": {
  "kernelspec": {
   "display_name": "Python 3",
   "language": "python",
   "name": "python3"
  },
  "language_info": {
   "codemirror_mode": {
    "name": "ipython",
    "version": 3
   },
   "file_extension": ".py",
   "mimetype": "text/x-python",
   "name": "python",
   "nbconvert_exporter": "python",
   "pygments_lexer": "ipython3",
   "version": "3.7.4"
  }
 },
 "nbformat": 4,
 "nbformat_minor": 2
}
