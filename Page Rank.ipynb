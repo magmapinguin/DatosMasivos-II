{
 "cells": [
  {
   "cell_type": "markdown",
   "metadata": {},
   "source": [
    "# Implementacion del algoritmo de Page Rank\n",
    "Utilizando la base de datos  de socslashdot una red social en la que se tienen dos columnas una que representa un nodo \n",
    "y la otra un nodo al cual hace referencia cada nodo puede hacer referencia a mas de un nodo cada columna con 70068 elementos"
   ]
  },
  {
   "cell_type": "code",
   "execution_count": 1,
   "metadata": {},
   "outputs": [],
   "source": [
    "#Importamos scipy para moder manejar matrices dispersas y network por su modulo para crear matrices de adyacencia\n",
    "from scipy.io import mmread\n",
    "import pandas as pd \n",
    "import numpy as np\n",
    "import networkx as nx\n",
    "import scipy"
   ]
  },
  {
   "cell_type": "markdown",
   "metadata": {},
   "source": [
    "### Implementacion con ejemplo pequeño ilustrativo usando matrices dispersas\n",
    "Con fines ilustrativos decidi crear un set de datos pequeño para poder ir viendo cada una de las operaciones ya que con el set de datos real es muy complicado "
   ]
  },
  {
   "cell_type": "code",
   "execution_count": 2,
   "metadata": {},
   "outputs": [
    {
     "data": {
      "text/html": [
       "<div>\n",
       "<style scoped>\n",
       "    .dataframe tbody tr th:only-of-type {\n",
       "        vertical-align: middle;\n",
       "    }\n",
       "\n",
       "    .dataframe tbody tr th {\n",
       "        vertical-align: top;\n",
       "    }\n",
       "\n",
       "    .dataframe thead th {\n",
       "        text-align: right;\n",
       "    }\n",
       "</style>\n",
       "<table border=\"1\" class=\"dataframe\">\n",
       "  <thead>\n",
       "    <tr style=\"text-align: right;\">\n",
       "      <th></th>\n",
       "      <th>source</th>\n",
       "      <th>target</th>\n",
       "    </tr>\n",
       "  </thead>\n",
       "  <tbody>\n",
       "    <tr>\n",
       "      <td>0</td>\n",
       "      <td>0</td>\n",
       "      <td>1</td>\n",
       "    </tr>\n",
       "    <tr>\n",
       "      <td>1</td>\n",
       "      <td>0</td>\n",
       "      <td>2</td>\n",
       "    </tr>\n",
       "    <tr>\n",
       "      <td>2</td>\n",
       "      <td>1</td>\n",
       "      <td>0</td>\n",
       "    </tr>\n",
       "    <tr>\n",
       "      <td>3</td>\n",
       "      <td>1</td>\n",
       "      <td>1</td>\n",
       "    </tr>\n",
       "  </tbody>\n",
       "</table>\n",
       "</div>"
      ],
      "text/plain": [
       "   source  target\n",
       "0       0       1\n",
       "1       0       2\n",
       "2       1       0\n",
       "3       1       1"
      ]
     },
     "execution_count": 2,
     "metadata": {},
     "output_type": "execute_result"
    }
   ],
   "source": [
    "#Convertimos un txt a un df de pandas\n",
    "\n",
    "datos3 = pd.read_csv(\"toy2.txt\", skiprows=0, sep=\",\")\n",
    "datos4 = datos3[[\"source\",\"target\"]]\n",
    "datos4"
   ]
  },
  {
   "cell_type": "markdown",
   "metadata": {},
   "source": [
    "Usando la funcion de network x creamos un objeto digrapg que es un objeto que ilustra las relaciones en un set de datos y permite reconocer lo que buscamos que son nodos y relaciones"
   ]
  },
  {
   "cell_type": "code",
   "execution_count": 3,
   "metadata": {},
   "outputs": [
    {
     "data": {
      "text/plain": [
       "networkx.classes.digraph.DiGraph"
      ]
     },
     "execution_count": 3,
     "metadata": {},
     "output_type": "execute_result"
    }
   ],
   "source": [
    "#Creamos el objeto digraph que permite establecer relaciones y nodos\n",
    "#en donde le pasamos el nombre del dataframe y las columnas que queremos usar\n",
    "G1 = nx.from_pandas_edgelist(datos4, \"source\", \"target\", edge_attr=True, create_using=nx.DiGraph())\n",
    "type(G1)"
   ]
  },
  {
   "cell_type": "code",
   "execution_count": 4,
   "metadata": {},
   "outputs": [
    {
     "name": "stdout",
     "output_type": "stream",
     "text": [
      "[[0 1 1]\n",
      " [1 1 0]\n",
      " [0 0 0]]\n"
     ]
    },
    {
     "data": {
      "text/plain": [
       "scipy.sparse.csr.csr_matrix"
      ]
     },
     "execution_count": 4,
     "metadata": {},
     "output_type": "execute_result"
    }
   ],
   "source": [
    "#Convertimos el objeto digraph en una matriz de adyacencia\n",
    "A1 = nx.adjacency_matrix(G1) #Con el metodo adjacency_matrix\n",
    "                             #Convertimos el Digraph en una matr\n",
    "                             #de adyacencia que a su vez ya es una \n",
    "                             #matriz dispersa\n",
    "print(A1.todense()) #El metodo todense nos permite rearmar la matriz \n",
    "                    #dispersa en una matriz densa nuevamente\n",
    "type(A1)"
   ]
  },
  {
   "cell_type": "code",
   "execution_count": 5,
   "metadata": {},
   "outputs": [
    {
     "name": "stdout",
     "output_type": "stream",
     "text": [
      "[[0.5]\n",
      " [0.5]\n",
      " [inf]]\n"
     ]
    },
    {
     "name": "stderr",
     "output_type": "stream",
     "text": [
      "C:\\Users\\mjsto\\Anaconda3\\lib\\site-packages\\ipykernel_launcher.py:3: RuntimeWarning: divide by zero encountered in true_divide\n",
      "  This is separate from the ipykernel package so we can avoid doing imports until\n"
     ]
    }
   ],
   "source": [
    "#Una vez que obtenemos la matriz de adyacencia obtuvimos una nueva matriz llena de la suma  \n",
    "#de los valores de las columnas y dividida entre ellos a la que llamaremos S1\n",
    "\n",
    "S1 = scipy.sparse.csr_matrix(1/A1.sum(1)) \n",
    "print(S1.todense())"
   ]
  },
  {
   "cell_type": "markdown",
   "metadata": {},
   "source": [
    "Se tiene que resaltar que tenemos columnas cuya suma es cero entonces aqui nos lanza una advertencia ya que esos valores seran llenados con NaN o con inf"
   ]
  },
  {
   "cell_type": "code",
   "execution_count": 6,
   "metadata": {},
   "outputs": [
    {
     "name": "stdout",
     "output_type": "stream",
     "text": [
      "[[0.  0.5 0.5]\n",
      " [0.5 0.5 0. ]\n",
      " [0.  0.  0. ]]\n"
     ]
    }
   ],
   "source": [
    "#multiplicamos la matriz S1 por la matriz de adyacencia y obtenemos nuestra matriz estocastica\n",
    "CA = A1.multiply(S1)\n",
    "print(CA.todense())"
   ]
  },
  {
   "cell_type": "markdown",
   "metadata": {},
   "source": [
    "En un principio no sabia si los NaN e inf afectarian a la matriz pero de primera mano no los afecto ya que al hacer la reconstruccion con '.todense' la reconstruyo sin problemas"
   ]
  },
  {
   "cell_type": "markdown",
   "metadata": {},
   "source": [
    "Aun asi desarrolle un metodo para eliminar valores NaN"
   ]
  },
  {
   "cell_type": "code",
   "execution_count": 114,
   "metadata": {},
   "outputs": [
    {
     "name": "stdout",
     "output_type": "stream",
     "text": [
      "[[0.  0.5 0.5]\n",
      " [0.5 0.5 0. ]\n",
      " [0.  0.  0. ]]\n"
     ]
    }
   ],
   "source": [
    "#Metodo para eliminar valores NaN\n",
    "CA.data = np.nan_to_num(CA.data, copy=False)\n",
    "print(CA.todense())"
   ]
  },
  {
   "cell_type": "markdown",
   "metadata": {},
   "source": [
    "Observamos que no existe diferencia pero debemos considerar que puede que no haya problema al reconstruirlas pero a la hora de operar con esas matrices siendo matrices dispersas puede que si lo haya "
   ]
  },
  {
   "cell_type": "markdown",
   "metadata": {},
   "source": [
    "### Resolviendo controversia de los NaN e INF"
   ]
  },
  {
   "cell_type": "code",
   "execution_count": 8,
   "metadata": {},
   "outputs": [
    {
     "name": "stderr",
     "output_type": "stream",
     "text": [
      "C:\\Users\\mjsto\\Anaconda3\\lib\\site-packages\\ipykernel_launcher.py:6: RuntimeWarning: divide by zero encountered in true_divide\n",
      "  \n"
     ]
    }
   ],
   "source": [
    "#Creamos una matriz pero ahora sin eliminar los NaN\n",
    "G2 = nx.from_pandas_edgelist(datos4, \"source\", \"target\", edge_attr=True, create_using=nx.DiGraph())\n",
    "\n",
    "A2 = nx.adjacency_matrix(G2)\n",
    "\n",
    "\n",
    "S2 = scipy.sparse.csr_matrix(1/A2.sum(1))\n"
   ]
  },
  {
   "cell_type": "code",
   "execution_count": 9,
   "metadata": {},
   "outputs": [
    {
     "name": "stdout",
     "output_type": "stream",
     "text": [
      "[[0.  0.5 0.5]\n",
      " [0.5 0.5 0. ]\n",
      " [0.  0.  0. ]]\n"
     ]
    }
   ],
   "source": [
    "CA2 = A2.multiply(S2)\n",
    "print(CA.todense())"
   ]
  },
  {
   "cell_type": "markdown",
   "metadata": {},
   "source": [
    "Definimos las Funciones para ejecutar el algortimo de pagerank con una ligera modificacion en la que incluyo una lista para guardar en un arrelgo la ultima iteracion "
   ]
  },
  {
   "cell_type": "code",
   "execution_count": 31,
   "metadata": {},
   "outputs": [],
   "source": [
    "#Definimos la funcion de pagerank convencional\n",
    "import numpy as np\n",
    "from scipy.sparse import csr_matrix\n",
    "\n",
    "def pagerank1(M, iter=100):\n",
    "  resultados = [] #definimos la lista para guardar la ultima iteracion\n",
    "  n = M.shape[0]\n",
    "  r = np.ones(n) / n\n",
    "  for i in range(iter):\n",
    "    \n",
    "    \n",
    "    resultados.append(r)\n",
    "    print('Iteración {0}: r = {1}'.format(i,r))\n",
    "    r = M @ r\n",
    "    resultados.append(r) #llenamos la lista \n",
    "  return r\n",
    "  return resultados #regresamos la lista\n",
    "  "
   ]
  },
  {
   "cell_type": "code",
   "execution_count": 46,
   "metadata": {},
   "outputs": [],
   "source": [
    "#Al igual que el algortimo anterior aqui ponemos una lista para guardar la ultima iteracion\n",
    "def pagerank_escalable_css1(M, beta = 0.8, iter=20):\n",
    "  resultados = []\n",
    "  n = M.shape[0]\n",
    "  r = np.ones(n) / n\n",
    "  for i in range(iter):\n",
    "    resultados.append(r)\n",
    "    print('Iteración {0}: r = {1}'.format(i,r))\n",
    "    rhat = beta * M @ r\n",
    "    umrsn = (1 - rhat.sum()) / n\n",
    "    r = rhat + umrsn\n",
    "    resultados.append(r)\n",
    "    \n",
    "  return r"
   ]
  },
  {
   "cell_type": "markdown",
   "metadata": {},
   "source": [
    "### PageRank con set de prueba"
   ]
  },
  {
   "cell_type": "code",
   "execution_count": 37,
   "metadata": {},
   "outputs": [
    {
     "name": "stdout",
     "output_type": "stream",
     "text": [
      "Iteración 0: r = [0.33333333 0.33333333 0.33333333]\n",
      "Iteración 1: r = [0.33333333 0.33333333 0.        ]\n",
      "Iteración 2: r = [0.16666667 0.33333333 0.        ]\n",
      "Iteración 3: r = [0.16666667 0.25       0.        ]\n",
      "Iteración 4: r = [0.125      0.20833333 0.        ]\n",
      "Iteración 5: r = [0.10416667 0.16666667 0.        ]\n",
      "Iteración 6: r = [0.08333333 0.13541667 0.        ]\n",
      "Iteración 7: r = [0.06770833 0.109375   0.        ]\n",
      "Iteración 8: r = [0.0546875  0.08854167 0.        ]\n",
      "Iteración 9: r = [0.04427083 0.07161458 0.        ]\n",
      "Iteración 10: r = [0.03580729 0.05794271 0.        ]\n",
      "Iteración 11: r = [0.02897135 0.046875   0.        ]\n",
      "Iteración 12: r = [0.0234375  0.03792318 0.        ]\n",
      "Iteración 13: r = [0.01896159 0.03068034 0.        ]\n",
      "Iteración 14: r = [0.01534017 0.02482096 0.        ]\n",
      "Iteración 15: r = [0.01241048 0.02008057 0.        ]\n",
      "Iteración 16: r = [0.01004028 0.01624552 0.        ]\n",
      "Iteración 17: r = [0.00812276 0.0131429  0.        ]\n",
      "Iteración 18: r = [0.00657145 0.01063283 0.        ]\n",
      "Iteración 19: r = [0.00531642 0.00860214 0.        ]\n"
     ]
    }
   ],
   "source": [
    "#Primero corremos la matriz de prueba con el metodo convencional de pagerank \n",
    "#y 20 iteraciones con la matriz que no tiene NaN\n",
    "sinnan = pagerank1(CA, 20)"
   ]
  },
  {
   "cell_type": "code",
   "execution_count": 43,
   "metadata": {},
   "outputs": [
    {
     "data": {
      "text/plain": [
       "array([0.00430107, 0.00695928, 0.        ])"
      ]
     },
     "execution_count": 43,
     "metadata": {},
     "output_type": "execute_result"
    }
   ],
   "source": [
    "#Una visualizacion de como se ve la ultima iteracion\n",
    "sinnan"
   ]
  },
  {
   "cell_type": "code",
   "execution_count": 22,
   "metadata": {},
   "outputs": [
    {
     "data": {
      "text/plain": [
       "array([2, 0, 1], dtype=int64)"
      ]
     },
     "execution_count": 22,
     "metadata": {},
     "output_type": "execute_result"
    }
   ],
   "source": [
    "#Obtenemos el arreglo con los nodos en orden de\n",
    "#importancia siendo el primero el menos importante y el ultimo el mas importante\n",
    "np.argsort(sinnan)"
   ]
  },
  {
   "cell_type": "code",
   "execution_count": 20,
   "metadata": {},
   "outputs": [
    {
     "name": "stdout",
     "output_type": "stream",
     "text": [
      "Iteración 0: r = [0.33333333 0.33333333 0.        ]\n",
      "Iteración 1: r = [0.16666667 0.33333333 0.        ]\n",
      "Iteración 2: r = [0.16666667 0.25       0.        ]\n",
      "Iteración 3: r = [0.125      0.20833333 0.        ]\n",
      "Iteración 4: r = [0.10416667 0.16666667 0.        ]\n",
      "Iteración 5: r = [0.08333333 0.13541667 0.        ]\n",
      "Iteración 6: r = [0.06770833 0.109375   0.        ]\n",
      "Iteración 7: r = [0.0546875  0.08854167 0.        ]\n",
      "Iteración 8: r = [0.04427083 0.07161458 0.        ]\n",
      "Iteración 9: r = [0.03580729 0.05794271 0.        ]\n",
      "Iteración 10: r = [0.02897135 0.046875   0.        ]\n",
      "Iteración 11: r = [0.0234375  0.03792318 0.        ]\n",
      "Iteración 12: r = [0.01896159 0.03068034 0.        ]\n",
      "Iteración 13: r = [0.01534017 0.02482096 0.        ]\n",
      "Iteración 14: r = [0.01241048 0.02008057 0.        ]\n",
      "Iteración 15: r = [0.01004028 0.01624552 0.        ]\n",
      "Iteración 16: r = [0.00812276 0.0131429  0.        ]\n",
      "Iteración 17: r = [0.00657145 0.01063283 0.        ]\n",
      "Iteración 18: r = [0.00531642 0.00860214 0.        ]\n",
      "Iteración 19: r = [0.00430107 0.00695928 0.        ]\n"
     ]
    }
   ],
   "source": [
    "#Corremos el algortimo con valores NaN\n",
    "connan = pagerank1(CA2,20)\n"
   ]
  },
  {
   "cell_type": "code",
   "execution_count": 21,
   "metadata": {},
   "outputs": [
    {
     "data": {
      "text/plain": [
       "array([0.00430107, 0.00695928, 0.        ])"
      ]
     },
     "execution_count": 21,
     "metadata": {},
     "output_type": "execute_result"
    }
   ],
   "source": [
    "#Visualizamos el arreglo \n",
    "connan"
   ]
  },
  {
   "cell_type": "code",
   "execution_count": 23,
   "metadata": {},
   "outputs": [
    {
     "data": {
      "text/plain": [
       "array([2, 0, 1], dtype=int64)"
      ]
     },
     "execution_count": 23,
     "metadata": {},
     "output_type": "execute_result"
    }
   ],
   "source": [
    "#Visualizamos el orden de los nodos en orden ascendente\n",
    "np.argsort(connan)"
   ]
  },
  {
   "cell_type": "markdown",
   "metadata": {},
   "source": [
    "Despues de  aplicar el algoritmo de pagerank sobre las dos matrices una con nan y otra sin nan y vemos que los dos algoritmos arrojan los mismo resultados por lo que podemos concluir que los valores NaN no afectan a la hora de hacer las operaciones"
   ]
  },
  {
   "cell_type": "markdown",
   "metadata": {},
   "source": [
    "### PageRank escalado con set de prueba"
   ]
  },
  {
   "cell_type": "code",
   "execution_count": 58,
   "metadata": {},
   "outputs": [
    {
     "name": "stdout",
     "output_type": "stream",
     "text": [
      "Iteración 0: r = [0.33333333 0.33333333 0.33333333]\n",
      "Iteración 1: r = [0.42222222 0.42222222 0.15555556]\n",
      "Iteración 2: r = [0.37481481 0.48148148 0.1437037 ]\n",
      "Iteración 3: r = [0.38587654 0.47832099 0.13580247]\n",
      "Iteración 4: r = [0.38187325 0.48190288 0.13622387]\n",
      "Iteración 5: r = [0.38299698 0.48125674 0.13574628]\n",
      "Iteración 6: r = [0.38263364 0.48153392 0.13583244]\n",
      "Iteración 7: r = [0.38274202 0.4814625  0.13579548]\n",
      "Iteración 8: r = [0.38270819 0.48148681 0.135805  ]\n",
      "Iteración 9: r = [0.38271848 0.48147976 0.13580176]\n",
      "Iteración 10: r = [0.38271531 0.481482   0.1358027 ]\n",
      "Iteración 11: r = [0.38271628 0.48148132 0.1358024 ]\n",
      "Iteración 12: r = [0.38271598 0.48148153 0.13580249]\n",
      "Iteración 13: r = [0.38271607 0.48148147 0.13580246]\n",
      "Iteración 14: r = [0.38271604 0.48148149 0.13580247]\n",
      "Iteración 15: r = [0.38271605 0.48148148 0.13580247]\n",
      "Iteración 16: r = [0.38271605 0.48148148 0.13580247]\n",
      "Iteración 17: r = [0.38271605 0.48148148 0.13580247]\n",
      "Iteración 18: r = [0.38271605 0.48148148 0.13580247]\n",
      "Iteración 19: r = [0.38271605 0.48148148 0.13580247]\n"
     ]
    }
   ],
   "source": [
    "#Corremos el algoritmo de pagerank escalado con 20 iteraciones para matriz sin NaN\n",
    "sinnanesc = pagerank_escalable_css1(csr_matrix(CA), 0.8, iter=20)"
   ]
  },
  {
   "cell_type": "code",
   "execution_count": 61,
   "metadata": {},
   "outputs": [
    {
     "data": {
      "text/plain": [
       "array([0.38271605, 0.48148148, 0.13580247])"
      ]
     },
     "execution_count": 61,
     "metadata": {},
     "output_type": "execute_result"
    }
   ],
   "source": [
    "#Observamos el vector \n",
    "sinnanesc"
   ]
  },
  {
   "cell_type": "code",
   "execution_count": 62,
   "metadata": {},
   "outputs": [
    {
     "data": {
      "text/plain": [
       "array([2, 0, 1], dtype=int64)"
      ]
     },
     "execution_count": 62,
     "metadata": {},
     "output_type": "execute_result"
    }
   ],
   "source": [
    "#Ordenamos los nodos en orden de importancia \n",
    "np.argsort(sinnanesc)"
   ]
  },
  {
   "cell_type": "code",
   "execution_count": 59,
   "metadata": {},
   "outputs": [
    {
     "name": "stdout",
     "output_type": "stream",
     "text": [
      "Iteración 0: r = [0.33333333 0.33333333 0.33333333]\n",
      "Iteración 1: r = [0.42222222 0.42222222 0.15555556]\n",
      "Iteración 2: r = [0.37481481 0.48148148 0.1437037 ]\n",
      "Iteración 3: r = [0.38587654 0.47832099 0.13580247]\n",
      "Iteración 4: r = [0.38187325 0.48190288 0.13622387]\n",
      "Iteración 5: r = [0.38299698 0.48125674 0.13574628]\n",
      "Iteración 6: r = [0.38263364 0.48153392 0.13583244]\n",
      "Iteración 7: r = [0.38274202 0.4814625  0.13579548]\n",
      "Iteración 8: r = [0.38270819 0.48148681 0.135805  ]\n",
      "Iteración 9: r = [0.38271848 0.48147976 0.13580176]\n",
      "Iteración 10: r = [0.38271531 0.481482   0.1358027 ]\n",
      "Iteración 11: r = [0.38271628 0.48148132 0.1358024 ]\n",
      "Iteración 12: r = [0.38271598 0.48148153 0.13580249]\n",
      "Iteración 13: r = [0.38271607 0.48148147 0.13580246]\n",
      "Iteración 14: r = [0.38271604 0.48148149 0.13580247]\n",
      "Iteración 15: r = [0.38271605 0.48148148 0.13580247]\n",
      "Iteración 16: r = [0.38271605 0.48148148 0.13580247]\n",
      "Iteración 17: r = [0.38271605 0.48148148 0.13580247]\n",
      "Iteración 18: r = [0.38271605 0.48148148 0.13580247]\n",
      "Iteración 19: r = [0.38271605 0.48148148 0.13580247]\n"
     ]
    }
   ],
   "source": [
    "#Corremos pagerank en la matriz con NaN \n",
    "connanesc = pagerank_escalable_css1(csr_matrix(CA2), 0.8, iter=20)"
   ]
  },
  {
   "cell_type": "code",
   "execution_count": 60,
   "metadata": {},
   "outputs": [
    {
     "data": {
      "text/plain": [
       "array([0.38271605, 0.48148148, 0.13580247])"
      ]
     },
     "execution_count": 60,
     "metadata": {},
     "output_type": "execute_result"
    }
   ],
   "source": [
    "#Observamos el vector \n",
    "connanesc"
   ]
  },
  {
   "cell_type": "code",
   "execution_count": 63,
   "metadata": {},
   "outputs": [
    {
     "data": {
      "text/plain": [
       "array([2, 0, 1], dtype=int64)"
      ]
     },
     "execution_count": 63,
     "metadata": {},
     "output_type": "execute_result"
    }
   ],
   "source": [
    "#Ordenamos los nodos en orden de importancia\n",
    "np.argsort(connanesc)"
   ]
  },
  {
   "cell_type": "markdown",
   "metadata": {},
   "source": [
    "Podemos concluir que los valores NaN no afectan a las operaciones con las matrices pero que igual los valores de la ultima iteracion si cambian de un algortimo a otro aunque el orden de relevancia de los nodos no se ve afectada\n"
   ]
  },
  {
   "cell_type": "markdown",
   "metadata": {},
   "source": [
    "## Ejemplo real"
   ]
  },
  {
   "cell_type": "code",
   "execution_count": 115,
   "metadata": {},
   "outputs": [],
   "source": [
    "#Convertimos el archivo mtx a un df de pandas \n",
    "datos = pd.read_csv(\"socslashdot.mtx\", skiprows=1, sep=\" \")#La base de datos esta separada por espacios \n",
    "                                                           #y es el parametro que pasamos\n",
    "datos2 = datos[[\"70068\",\"70068.1\"]]"
   ]
  },
  {
   "cell_type": "code",
   "execution_count": 117,
   "metadata": {},
   "outputs": [
    {
     "data": {
      "text/html": [
       "<div>\n",
       "<style scoped>\n",
       "    .dataframe tbody tr th:only-of-type {\n",
       "        vertical-align: middle;\n",
       "    }\n",
       "\n",
       "    .dataframe tbody tr th {\n",
       "        vertical-align: top;\n",
       "    }\n",
       "\n",
       "    .dataframe thead th {\n",
       "        text-align: right;\n",
       "    }\n",
       "</style>\n",
       "<table border=\"1\" class=\"dataframe\">\n",
       "  <thead>\n",
       "    <tr style=\"text-align: right;\">\n",
       "      <th></th>\n",
       "      <th>70068</th>\n",
       "      <th>70068.1</th>\n",
       "    </tr>\n",
       "  </thead>\n",
       "  <tbody>\n",
       "    <tr>\n",
       "      <td>0</td>\n",
       "      <td>2</td>\n",
       "      <td>1</td>\n",
       "    </tr>\n",
       "    <tr>\n",
       "      <td>1</td>\n",
       "      <td>3</td>\n",
       "      <td>1</td>\n",
       "    </tr>\n",
       "    <tr>\n",
       "      <td>2</td>\n",
       "      <td>4</td>\n",
       "      <td>1</td>\n",
       "    </tr>\n",
       "    <tr>\n",
       "      <td>3</td>\n",
       "      <td>5</td>\n",
       "      <td>1</td>\n",
       "    </tr>\n",
       "    <tr>\n",
       "      <td>4</td>\n",
       "      <td>6</td>\n",
       "      <td>1</td>\n",
       "    </tr>\n",
       "  </tbody>\n",
       "</table>\n",
       "</div>"
      ],
      "text/plain": [
       "   70068  70068.1\n",
       "0      2        1\n",
       "1      3        1\n",
       "2      4        1\n",
       "3      5        1\n",
       "4      6        1"
      ]
     },
     "execution_count": 117,
     "metadata": {},
     "output_type": "execute_result"
    }
   ],
   "source": [
    "datos2.head()"
   ]
  },
  {
   "cell_type": "markdown",
   "metadata": {},
   "source": [
    "Como podemos ver el set de datos tiene dos columnas la primer columna \"70068\" es el nodo origen y la columna \"70068.1\" es el nodo destino es decir el nodo al que apunta el nodo de la columna 70068 aqui anexo una representacion grafica de como luce el set de datos"
   ]
  },
  {
   "cell_type": "code",
   "execution_count": 132,
   "metadata": {},
   "outputs": [
    {
     "data": {
      "image/png": "[encoded data removed]",
      "text/plain": [
       "<IPython.core.display.Image object>"
      ]
     },
     "execution_count": 132,
     "metadata": {},
     "output_type": "execute_result"
    }
   ],
   "source": [
    "from IPython.display import Image\n",
    "Image(\"diagrama.png\")"
   ]
  },
  {
   "cell_type": "code",
   "execution_count": 78,
   "metadata": {},
   "outputs": [
    {
     "data": {
      "text/plain": [
       "395      2027\n",
       "2479     1914\n",
       "378      1700\n",
       "226      1640\n",
       "35       1437\n",
       "         ... \n",
       "18285       1\n",
       "28520       1\n",
       "8038        1\n",
       "16226       1\n",
       "58690       1\n",
       "Name: 70068.1, Length: 28910, dtype: int64"
      ]
     },
     "execution_count": 78,
     "metadata": {},
     "output_type": "execute_result"
    }
   ],
   "source": [
    "#Obtenemos el valor que mas se repite en la columna de nodos referidos \n",
    "datos2[\"70068.1\"].value_counts()"
   ]
  },
  {
   "cell_type": "markdown",
   "metadata": {},
   "source": [
    "Esto lo hice por que podriamos esperar que el valor que mas se repite en la columna de referidos fuera el mas relevante por lo que de momento quedaremos en que el nodo mas relevante es el 395 ya que es al que mas nodos refieren"
   ]
  },
  {
   "cell_type": "code",
   "execution_count": 89,
   "metadata": {},
   "outputs": [
    {
     "data": {
      "text/plain": [
       "networkx.classes.digraph.DiGraph"
      ]
     },
     "execution_count": 89,
     "metadata": {},
     "output_type": "execute_result"
    }
   ],
   "source": [
    "#Utilizando la base de datos creamos un objeto digraph apartir del df que tenemos\n",
    "G = nx.from_pandas_edgelist(datos2, \"70068.1\", \"70068\", edge_attr=True, create_using=nx.DiGraph())\n",
    "type(G)"
   ]
  },
  {
   "cell_type": "code",
   "execution_count": 118,
   "metadata": {},
   "outputs": [
    {
     "name": "stdout",
     "output_type": "stream",
     "text": [
      "[[0 1 1 ... 0 0 0]\n",
      " [0 0 0 ... 0 0 0]\n",
      " [0 0 0 ... 0 0 0]\n",
      " ...\n",
      " [0 0 0 ... 0 0 0]\n",
      " [0 0 0 ... 0 0 1]\n",
      " [0 0 0 ... 0 0 0]]\n"
     ]
    },
    {
     "data": {
      "text/plain": [
       "(70068, 70068)"
      ]
     },
     "execution_count": 118,
     "metadata": {},
     "output_type": "execute_result"
    }
   ],
   "source": [
    "#Creamos una matriz de adyacencia apartir de nuestro objeto \n",
    "A = nx.adjacency_matrix(G)\n",
    "print(A.todense())\n",
    "A.shape\n"
   ]
  },
  {
   "cell_type": "markdown",
   "metadata": {},
   "source": [
    "Podemos ver que es una matriz de 70068 x70068"
   ]
  },
  {
   "cell_type": "code",
   "execution_count": 91,
   "metadata": {},
   "outputs": [
    {
     "name": "stderr",
     "output_type": "stream",
     "text": [
      "C:\\Users\\mjsto\\Anaconda3\\lib\\site-packages\\ipykernel_launcher.py:1: RuntimeWarning: divide by zero encountered in true_divide\n",
      "  \"\"\"Entry point for launching an IPython kernel.\n"
     ]
    }
   ],
   "source": [
    "#Obtenemos la matriz que contiene la suma de las columnas de la matriz de adyacencia \n",
    "S = scipy.sparse.csr_matrix(1/A.sum(1))"
   ]
  },
  {
   "cell_type": "code",
   "execution_count": 92,
   "metadata": {},
   "outputs": [],
   "source": [
    "#Creamos una nueva matriz apartir de la multiplicacion de la matriz de adyacencia por la matriz de valores suma\n",
    "#y asi obtener la matriz estocastica\n",
    "MA = A.multiply(S)\n"
   ]
  },
  {
   "cell_type": "code",
   "execution_count": null,
   "metadata": {},
   "outputs": [],
   "source": [
    "MA.data = np.nan_to_num(MA.data, copy=False)"
   ]
  },
  {
   "cell_type": "code",
   "execution_count": 93,
   "metadata": {},
   "outputs": [
    {
     "ename": "MemoryError",
     "evalue": "Unable to allocate 36.6 GiB for an array with shape (70068, 70068) and data type float64",
     "output_type": "error",
     "traceback": [
      "\u001b[1;31m---------------------------------------------------------------------------\u001b[0m",
      "\u001b[1;31mMemoryError\u001b[0m                               Traceback (most recent call last)",
      "\u001b[1;32m<ipython-input-93-004824f6e137>\u001b[0m in \u001b[0;36m<module>\u001b[1;34m\u001b[0m\n\u001b[1;32m----> 1\u001b[1;33m \u001b[0mprint\u001b[0m\u001b[1;33m(\u001b[0m\u001b[0mMA\u001b[0m\u001b[1;33m.\u001b[0m\u001b[0mtodense\u001b[0m\u001b[1;33m(\u001b[0m\u001b[1;33m)\u001b[0m\u001b[1;33m)\u001b[0m\u001b[1;33m\u001b[0m\u001b[1;33m\u001b[0m\u001b[0m\n\u001b[0m",
      "\u001b[1;32m~\\Anaconda3\\lib\\site-packages\\scipy\\sparse\\base.py\u001b[0m in \u001b[0;36mtodense\u001b[1;34m(self, order, out)\u001b[0m\n\u001b[0;32m    846\u001b[0m             \u001b[0;31m`\u001b[0m\u001b[0mnumpy\u001b[0m\u001b[1;33m.\u001b[0m\u001b[0mmatrix\u001b[0m\u001b[0;31m`\u001b[0m \u001b[0mobject\u001b[0m \u001b[0mthat\u001b[0m \u001b[0mshares\u001b[0m \u001b[0mthe\u001b[0m \u001b[0msame\u001b[0m \u001b[0mmemory\u001b[0m\u001b[1;33m.\u001b[0m\u001b[1;33m\u001b[0m\u001b[1;33m\u001b[0m\u001b[0m\n\u001b[0;32m    847\u001b[0m         \"\"\"\n\u001b[1;32m--> 848\u001b[1;33m         \u001b[1;32mreturn\u001b[0m \u001b[0masmatrix\u001b[0m\u001b[1;33m(\u001b[0m\u001b[0mself\u001b[0m\u001b[1;33m.\u001b[0m\u001b[0mtoarray\u001b[0m\u001b[1;33m(\u001b[0m\u001b[0morder\u001b[0m\u001b[1;33m=\u001b[0m\u001b[0morder\u001b[0m\u001b[1;33m,\u001b[0m \u001b[0mout\u001b[0m\u001b[1;33m=\u001b[0m\u001b[0mout\u001b[0m\u001b[1;33m)\u001b[0m\u001b[1;33m)\u001b[0m\u001b[1;33m\u001b[0m\u001b[1;33m\u001b[0m\u001b[0m\n\u001b[0m\u001b[0;32m    849\u001b[0m \u001b[1;33m\u001b[0m\u001b[0m\n\u001b[0;32m    850\u001b[0m     \u001b[1;32mdef\u001b[0m \u001b[0mtoarray\u001b[0m\u001b[1;33m(\u001b[0m\u001b[0mself\u001b[0m\u001b[1;33m,\u001b[0m \u001b[0morder\u001b[0m\u001b[1;33m=\u001b[0m\u001b[1;32mNone\u001b[0m\u001b[1;33m,\u001b[0m \u001b[0mout\u001b[0m\u001b[1;33m=\u001b[0m\u001b[1;32mNone\u001b[0m\u001b[1;33m)\u001b[0m\u001b[1;33m:\u001b[0m\u001b[1;33m\u001b[0m\u001b[1;33m\u001b[0m\u001b[0m\n",
      "\u001b[1;32m~\\Anaconda3\\lib\\site-packages\\scipy\\sparse\\compressed.py\u001b[0m in \u001b[0;36mtoarray\u001b[1;34m(self, order, out)\u001b[0m\n\u001b[0;32m   1022\u001b[0m         \u001b[1;32mif\u001b[0m \u001b[0mout\u001b[0m \u001b[1;32mis\u001b[0m \u001b[1;32mNone\u001b[0m \u001b[1;32mand\u001b[0m \u001b[0morder\u001b[0m \u001b[1;32mis\u001b[0m \u001b[1;32mNone\u001b[0m\u001b[1;33m:\u001b[0m\u001b[1;33m\u001b[0m\u001b[1;33m\u001b[0m\u001b[0m\n\u001b[0;32m   1023\u001b[0m             \u001b[0morder\u001b[0m \u001b[1;33m=\u001b[0m \u001b[0mself\u001b[0m\u001b[1;33m.\u001b[0m\u001b[0m_swap\u001b[0m\u001b[1;33m(\u001b[0m\u001b[1;34m'cf'\u001b[0m\u001b[1;33m)\u001b[0m\u001b[1;33m[\u001b[0m\u001b[1;36m0\u001b[0m\u001b[1;33m]\u001b[0m\u001b[1;33m\u001b[0m\u001b[1;33m\u001b[0m\u001b[0m\n\u001b[1;32m-> 1024\u001b[1;33m         \u001b[0mout\u001b[0m \u001b[1;33m=\u001b[0m \u001b[0mself\u001b[0m\u001b[1;33m.\u001b[0m\u001b[0m_process_toarray_args\u001b[0m\u001b[1;33m(\u001b[0m\u001b[0morder\u001b[0m\u001b[1;33m,\u001b[0m \u001b[0mout\u001b[0m\u001b[1;33m)\u001b[0m\u001b[1;33m\u001b[0m\u001b[1;33m\u001b[0m\u001b[0m\n\u001b[0m\u001b[0;32m   1025\u001b[0m         \u001b[1;32mif\u001b[0m \u001b[1;32mnot\u001b[0m \u001b[1;33m(\u001b[0m\u001b[0mout\u001b[0m\u001b[1;33m.\u001b[0m\u001b[0mflags\u001b[0m\u001b[1;33m.\u001b[0m\u001b[0mc_contiguous\u001b[0m \u001b[1;32mor\u001b[0m \u001b[0mout\u001b[0m\u001b[1;33m.\u001b[0m\u001b[0mflags\u001b[0m\u001b[1;33m.\u001b[0m\u001b[0mf_contiguous\u001b[0m\u001b[1;33m)\u001b[0m\u001b[1;33m:\u001b[0m\u001b[1;33m\u001b[0m\u001b[1;33m\u001b[0m\u001b[0m\n\u001b[0;32m   1026\u001b[0m             \u001b[1;32mraise\u001b[0m \u001b[0mValueError\u001b[0m\u001b[1;33m(\u001b[0m\u001b[1;34m'Output array must be C or F contiguous'\u001b[0m\u001b[1;33m)\u001b[0m\u001b[1;33m\u001b[0m\u001b[1;33m\u001b[0m\u001b[0m\n",
      "\u001b[1;32m~\\Anaconda3\\lib\\site-packages\\scipy\\sparse\\base.py\u001b[0m in \u001b[0;36m_process_toarray_args\u001b[1;34m(self, order, out)\u001b[0m\n\u001b[0;32m   1184\u001b[0m             \u001b[1;32mreturn\u001b[0m \u001b[0mout\u001b[0m\u001b[1;33m\u001b[0m\u001b[1;33m\u001b[0m\u001b[0m\n\u001b[0;32m   1185\u001b[0m         \u001b[1;32melse\u001b[0m\u001b[1;33m:\u001b[0m\u001b[1;33m\u001b[0m\u001b[1;33m\u001b[0m\u001b[0m\n\u001b[1;32m-> 1186\u001b[1;33m             \u001b[1;32mreturn\u001b[0m \u001b[0mnp\u001b[0m\u001b[1;33m.\u001b[0m\u001b[0mzeros\u001b[0m\u001b[1;33m(\u001b[0m\u001b[0mself\u001b[0m\u001b[1;33m.\u001b[0m\u001b[0mshape\u001b[0m\u001b[1;33m,\u001b[0m \u001b[0mdtype\u001b[0m\u001b[1;33m=\u001b[0m\u001b[0mself\u001b[0m\u001b[1;33m.\u001b[0m\u001b[0mdtype\u001b[0m\u001b[1;33m,\u001b[0m \u001b[0morder\u001b[0m\u001b[1;33m=\u001b[0m\u001b[0morder\u001b[0m\u001b[1;33m)\u001b[0m\u001b[1;33m\u001b[0m\u001b[1;33m\u001b[0m\u001b[0m\n\u001b[0m\u001b[0;32m   1187\u001b[0m \u001b[1;33m\u001b[0m\u001b[0m\n\u001b[0;32m   1188\u001b[0m \u001b[1;33m\u001b[0m\u001b[0m\n",
      "\u001b[1;31mMemoryError\u001b[0m: Unable to allocate 36.6 GiB for an array with shape (70068, 70068) and data type float64"
     ]
    }
   ],
   "source": [
    "#Tratamos de imprimir la matriz estocastica \n",
    "print(MA.todense())"
   ]
  },
  {
   "cell_type": "markdown",
   "metadata": {},
   "source": [
    "Aqui vemos un error bastante interesante que es que no se puede representar la matriz ya que es muy grande y no tenemos la memoria ram suficiente para llevar acabo el proceso ya que requerimos 36.6 gb por lo que no podemos visualizar como luce la matriz pero tomando como base los ejemplos de prueba podemos darnos una idea y como ya comprobamos que no existe ningun problema al usar valores NaN entonces no es de suma importancia saber como luce la matriz "
   ]
  },
  {
   "cell_type": "markdown",
   "metadata": {},
   "source": [
    "## PageRank"
   ]
  },
  {
   "cell_type": "markdown",
   "metadata": {},
   "source": [
    "Ahora implementamos el algoritmo de pagerank normal solo llamando nuestra funcion y pasandole la matriz dispersa que ya habiamos construido llamada MA"
   ]
  },
  {
   "cell_type": "code",
   "execution_count": 97,
   "metadata": {},
   "outputs": [
    {
     "name": "stdout",
     "output_type": "stream",
     "text": [
      "Iteración 0: r = [1.42718502e-05 1.42718502e-05 1.42718502e-05 ... 1.42718502e-05\n",
      " 1.42718502e-05 1.42718502e-05]\n",
      "Iteración 1: r = [1.42718502e-05 1.42718502e-05 1.42718502e-05 ... 0.00000000e+00\n",
      " 1.42718502e-05 0.00000000e+00]\n",
      "Iteración 2: r = [1.35954592e-05 1.41713442e-05 1.42718502e-05 ... 0.00000000e+00\n",
      " 0.00000000e+00 0.00000000e+00]\n",
      "Iteración 3: r = [1.27152564e-05 1.22204316e-05 1.28771213e-05 ... 0.00000000e+00\n",
      " 0.00000000e+00 0.00000000e+00]\n",
      "Iteración 4: r = [1.05325596e-05 8.77588088e-06 9.96700631e-06 ... 0.00000000e+00\n",
      " 0.00000000e+00 0.00000000e+00]\n",
      "Iteración 5: r = [7.06056276e-06 4.98473195e-06 6.50321028e-06 ... 0.00000000e+00\n",
      " 0.00000000e+00 0.00000000e+00]\n",
      "Iteración 6: r = [4.00659030e-06 2.38672102e-06 3.56353666e-06 ... 0.00000000e+00\n",
      " 0.00000000e+00 0.00000000e+00]\n",
      "Iteración 7: r = [1.90391237e-06 9.74205705e-07 1.68155850e-06 ... 0.00000000e+00\n",
      " 0.00000000e+00 0.00000000e+00]\n",
      "Iteración 8: r = [8.03338858e-07 3.49274418e-07 6.89827964e-07 ... 0.00000000e+00\n",
      " 0.00000000e+00 0.00000000e+00]\n",
      "Iteración 9: r = [2.97570533e-07 1.11124673e-07 2.51382288e-07 ... 0.00000000e+00\n",
      " 0.00000000e+00 0.00000000e+00]\n",
      "Iteración 10: r = [1.00230649e-07 3.22652129e-08 8.26076395e-08 ... 0.00000000e+00\n",
      " 0.00000000e+00 0.00000000e+00]\n",
      "Iteración 11: r = [3.08216498e-08 8.68904937e-09 2.48719495e-08 ... 0.00000000e+00\n",
      " 0.00000000e+00 0.00000000e+00]\n",
      "Iteración 12: r = [8.79010601e-09 2.21898825e-09 6.97121364e-09 ... 0.00000000e+00\n",
      " 0.00000000e+00 0.00000000e+00]\n",
      "Iteración 13: r = [2.35112790e-09 5.39262004e-10 1.82597481e-09 ... 0.00000000e+00\n",
      " 0.00000000e+00 0.00000000e+00]\n",
      "Iteración 14: r = [5.97546247e-10 1.24290245e-10 4.44553535e-10 ... 0.00000000e+00\n",
      " 0.00000000e+00 0.00000000e+00]\n",
      "Iteración 15: r = [1.39382702e-10 2.71088657e-11 1.03547303e-10 ... 0.00000000e+00\n",
      " 0.00000000e+00 0.00000000e+00]\n",
      "Iteración 16: r = [3.16748438e-11 5.65844590e-12 2.28666047e-11 ... 0.00000000e+00\n",
      " 0.00000000e+00 0.00000000e+00]\n",
      "Iteración 17: r = [6.80323495e-12 1.13126142e-12 4.85475865e-12 ... 0.00000000e+00\n",
      " 0.00000000e+00 0.00000000e+00]\n",
      "Iteración 18: r = [1.41059715e-12 2.17638599e-13 9.86094811e-13 ... 0.00000000e+00\n",
      " 0.00000000e+00 0.00000000e+00]\n",
      "Iteración 19: r = [2.79638256e-13 4.03592293e-14 1.92562513e-13 ... 0.00000000e+00\n",
      " 0.00000000e+00 0.00000000e+00]\n",
      "Iteración 20: r = [5.31921968e-14 7.15251692e-15 3.59941258e-14 ... 0.00000000e+00\n",
      " 0.00000000e+00 0.00000000e+00]\n",
      "Iteración 21: r = [9.72797996e-15 1.22517016e-15 6.43833982e-15 ... 0.00000000e+00\n",
      " 0.00000000e+00 0.00000000e+00]\n",
      "Iteración 22: r = [1.69434974e-15 2.00724370e-16 1.10050627e-15 ... 0.00000000e+00\n",
      " 0.00000000e+00 0.00000000e+00]\n",
      "Iteración 23: r = [2.83006397e-16 3.17352646e-17 1.79671816e-16 ... 0.00000000e+00\n",
      " 0.00000000e+00 0.00000000e+00]\n",
      "Iteración 24: r = [4.49697103e-17 4.80232724e-18 2.80091675e-17 ... 0.00000000e+00\n",
      " 0.00000000e+00 0.00000000e+00]\n",
      "Iteración 25: r = [6.84152672e-18 6.96165882e-19 4.16209192e-18 ... 0.00000000e+00\n",
      " 0.00000000e+00 0.00000000e+00]\n",
      "Iteración 26: r = [9.89874351e-19 9.64500167e-20 5.89065533e-19 ... 0.00000000e+00\n",
      " 0.00000000e+00 0.00000000e+00]\n",
      "Iteración 27: r = [1.36503687e-19 1.27727146e-20 7.92462378e-20 ... 0.00000000e+00\n",
      " 0.00000000e+00 0.00000000e+00]\n",
      "Iteración 28: r = [1.78466241e-20 1.61365459e-21 1.01251301e-20 ... 0.00000000e+00\n",
      " 0.00000000e+00 0.00000000e+00]\n",
      "Iteración 29: r = [2.21625476e-21 1.94402435e-22 1.22874761e-21 ... 0.00000000e+00\n",
      " 0.00000000e+00 0.00000000e+00]\n",
      "Iteración 30: r = [2.61081424e-22 2.23305806e-23 1.41827464e-22 ... 0.00000000e+00\n",
      " 0.00000000e+00 0.00000000e+00]\n",
      "Iteración 31: r = [2.92671553e-23 2.44931794e-24 1.56040261e-23 ... 0.00000000e+00\n",
      " 0.00000000e+00 0.00000000e+00]\n",
      "Iteración 32: r = [3.12885381e-24 2.57039168e-25 1.64078570e-24 ... 0.00000000e+00\n",
      " 0.00000000e+00 0.00000000e+00]\n",
      "Iteración 33: r = [3.20076843e-25 2.58692562e-26 1.65338148e-25 ... 0.00000000e+00\n",
      " 0.00000000e+00 0.00000000e+00]\n",
      "Iteración 34: r = [3.14093996e-26 2.50233192e-27 1.60047858e-26 ... 0.00000000e+00\n",
      " 0.00000000e+00 0.00000000e+00]\n",
      "Iteración 35: r = [2.96361548e-27 2.33080911e-28 1.49129555e-27 ... 0.00000000e+00\n",
      " 0.00000000e+00 0.00000000e+00]\n",
      "Iteración 36: r = [2.69349489e-28 2.09380864e-29 1.33977972e-28 ... 0.00000000e+00\n",
      " 0.00000000e+00 0.00000000e+00]\n",
      "Iteración 37: r = [2.36146145e-29 1.81626813e-30 1.16210857e-29 ... 0.00000000e+00\n",
      " 0.00000000e+00 0.00000000e+00]\n",
      "Iteración 38: r = [1.99964340e-30 1.52300560e-31 9.74336034e-31 ... 0.00000000e+00\n",
      " 0.00000000e+00 0.00000000e+00]\n",
      "Iteración 39: r = [1.63726585e-31 1.23576650e-32 7.90473714e-32 ... 0.00000000e+00\n",
      " 0.00000000e+00 0.00000000e+00]\n",
      "Iteración 40: r = [1.29765962e-32 9.71232703e-34 6.21221311e-33 ... 0.00000000e+00\n",
      " 0.00000000e+00 0.00000000e+00]\n",
      "Iteración 41: r = [9.96696218e-34 7.40156778e-35 4.73439830e-34 ... 0.00000000e+00\n",
      " 0.00000000e+00 0.00000000e+00]\n",
      "Iteración 42: r = [7.42736995e-35 5.47562535e-36 3.50306500e-35 ... 0.00000000e+00\n",
      " 0.00000000e+00 0.00000000e+00]\n",
      "Iteración 43: r = [5.37669233e-36 3.93718399e-37 2.51960042e-36 ... 0.00000000e+00\n",
      " 0.00000000e+00 0.00000000e+00]\n",
      "Iteración 44: r = [3.78590562e-37 2.75515175e-38 1.76391622e-37 ... 0.00000000e+00\n",
      " 0.00000000e+00 0.00000000e+00]\n",
      "Iteración 45: r = [2.59650847e-38 1.87890388e-39 1.20356865e-38 ... 0.00000000e+00\n",
      " 0.00000000e+00 0.00000000e+00]\n",
      "Iteración 46: r = [1.73692312e-39 1.25045348e-40 8.01501688e-40 ... 0.00000000e+00\n",
      " 0.00000000e+00 0.00000000e+00]\n",
      "Iteración 47: r = [1.13487868e-40 8.13272774e-42 5.21636963e-41 ... 0.00000000e+00\n",
      " 0.00000000e+00 0.00000000e+00]\n",
      "Iteración 48: r = [7.25248395e-42 5.17594780e-43 3.32223148e-42 ... 0.00000000e+00\n",
      " 0.00000000e+00 0.00000000e+00]\n",
      "Iteración 49: r = [4.53886264e-43 3.22748348e-44 2.07307250e-43 ... 0.00000000e+00\n",
      " 0.00000000e+00 0.00000000e+00]\n",
      "Iteración 50: r = [2.78501104e-44 1.97392106e-45 1.26877998e-44 ... 0.00000000e+00\n",
      " 0.00000000e+00 0.00000000e+00]\n",
      "Iteración 51: r = [1.67704855e-45 1.18515771e-46 7.62309407e-46 ... 0.00000000e+00\n",
      " 0.00000000e+00 0.00000000e+00]\n",
      "Iteración 52: r = [9.91813437e-47 6.99033996e-48 4.49930492e-47 ... 0.00000000e+00\n",
      " 0.00000000e+00 0.00000000e+00]\n",
      "Iteración 53: r = [5.76376855e-48 4.05222919e-49 2.60994040e-48 ... 0.00000000e+00\n",
      " 0.00000000e+00 0.00000000e+00]\n",
      "Iteración 54: r = [3.29232733e-49 2.30923824e-50 1.48832663e-49 ... 0.00000000e+00\n",
      " 0.00000000e+00 0.00000000e+00]\n",
      "Iteración 55: r = [1.84866399e-50 1.29374464e-51 8.34412419e-51 ... 0.00000000e+00\n",
      " 0.00000000e+00 0.00000000e+00]\n",
      "Iteración 56: r = [1.02032405e-51 7.12522141e-53 4.59883757e-52 ... 0.00000000e+00\n",
      " 0.00000000e+00 0.00000000e+00]\n",
      "Iteración 57: r = [5.53425611e-53 3.85693608e-54 2.49130638e-53 ... 0.00000000e+00\n",
      " 0.00000000e+00 0.00000000e+00]\n",
      "Iteración 58: r = [2.94923146e-54 2.05156029e-55 1.32623746e-54 ... 0.00000000e+00\n",
      " 0.00000000e+00 0.00000000e+00]\n",
      "Iteración 59: r = [1.54371305e-55 1.07207094e-56 6.93629109e-56 ... 0.00000000e+00\n",
      " 0.00000000e+00 0.00000000e+00]\n",
      "Iteración 60: r = [7.93452205e-57 5.50260965e-58 3.56327117e-57 ... 0.00000000e+00\n",
      " 0.00000000e+00 0.00000000e+00]\n",
      "Iteración 61: r = [4.00386692e-58 2.77361056e-59 1.79765172e-58 ... 0.00000000e+00\n",
      " 0.00000000e+00 0.00000000e+00]\n",
      "Iteración 62: r = [1.98324621e-59 1.37277833e-60 8.90507031e-60 ... 0.00000000e+00\n",
      " 0.00000000e+00 0.00000000e+00]\n",
      "Iteración 63: r = [9.64208628e-61 6.67115632e-62 4.33117103e-61 ... 0.00000000e+00\n",
      " 0.00000000e+00 0.00000000e+00]\n",
      "Iteración 64: r = [4.60091709e-62 3.18297752e-63 2.06818416e-62 ... 0.00000000e+00\n",
      " 0.00000000e+00 0.00000000e+00]\n",
      "Iteración 65: r = [2.15474147e-63 1.49106881e-64 9.69578446e-64 ... 0.00000000e+00\n",
      " 0.00000000e+00 0.00000000e+00]\n",
      "Iteración 66: r = [9.90448297e-65 6.85807225e-66 4.46261656e-65 ... 0.00000000e+00\n",
      " 0.00000000e+00 0.00000000e+00]\n",
      "Iteración 67: r = [4.46855121e-66 3.09712585e-67 2.01658223e-66 ... 0.00000000e+00\n",
      " 0.00000000e+00 0.00000000e+00]\n",
      "Iteración 68: r = [1.97884230e-67 1.37334431e-68 8.94681372e-68 ... 0.00000000e+00\n",
      " 0.00000000e+00 0.00000000e+00]\n",
      "Iteración 69: r = [8.60145103e-69 5.97958650e-70 3.89717268e-69 ... 0.00000000e+00\n",
      " 0.00000000e+00 0.00000000e+00]\n",
      "Iteración 70: r = [3.66985212e-70 2.55643965e-71 1.66669832e-70 ... 0.00000000e+00\n",
      " 0.00000000e+00 0.00000000e+00]\n",
      "Iteración 71: r = [1.53686412e-71 1.07316827e-72 6.99812927e-72 ... 0.00000000e+00\n",
      " 0.00000000e+00 0.00000000e+00]\n",
      "Iteración 72: r = [6.31714579e-73 4.42341346e-74 2.88476887e-73 ... 0.00000000e+00\n",
      " 0.00000000e+00 0.00000000e+00]\n",
      "Iteración 73: r = [2.54853150e-74 1.79015256e-75 1.16742018e-74 ... 0.00000000e+00\n",
      " 0.00000000e+00 0.00000000e+00]\n",
      "Iteración 74: r = [1.00908332e-75 7.11292957e-77 4.63780012e-76 ... 0.00000000e+00\n",
      " 0.00000000e+00 0.00000000e+00]\n",
      "Iteración 75: r = [3.92118808e-77 2.77469995e-78 1.80862170e-77 ... 0.00000000e+00\n",
      " 0.00000000e+00 0.00000000e+00]\n",
      "Iteración 76: r = [1.49537873e-78 1.06261915e-79 6.92339599e-79 ... 0.00000000e+00\n",
      " 0.00000000e+00 0.00000000e+00]\n",
      "Iteración 77: r = [5.59657129e-80 3.99504809e-81 2.60144976e-80 ... 0.00000000e+00\n",
      " 0.00000000e+00 0.00000000e+00]\n",
      "Iteración 78: r = [2.05556333e-81 1.47449294e-82 9.59469277e-82 ... 0.00000000e+00\n",
      " 0.00000000e+00 0.00000000e+00]\n",
      "Iteración 79: r = [7.40943451e-83 5.34243032e-84 3.47349501e-83 ... 0.00000000e+00\n",
      " 0.00000000e+00 0.00000000e+00]\n",
      "Iteración 80: r = [2.62119156e-84 1.90027135e-85 1.23432399e-84 ... 0.00000000e+00\n",
      " 0.00000000e+00 0.00000000e+00]\n",
      "Iteración 81: r = [9.10106760e-86 6.63565587e-87 4.30557854e-86 ... 0.00000000e+00\n",
      " 0.00000000e+00 0.00000000e+00]\n",
      "Iteración 82: r = [3.10164235e-87 2.27488690e-88 1.47432160e-87 ... 0.00000000e+00\n",
      " 0.00000000e+00 0.00000000e+00]\n",
      "Iteración 83: r = [1.03759388e-88 7.65710117e-90 4.95603726e-89 ... 0.00000000e+00\n",
      " 0.00000000e+00 0.00000000e+00]\n",
      "Iteración 84: r = [3.40748133e-90 2.53059302e-91 1.63563216e-90 ... 0.00000000e+00\n",
      " 0.00000000e+00 0.00000000e+00]\n",
      "Iteración 85: r = [1.09861780e-91 8.21223262e-93 5.29999548e-92 ... 0.00000000e+00\n",
      " 0.00000000e+00 0.00000000e+00]\n",
      "Iteración 86: r = [3.47780449e-93 2.61704360e-94 1.68630530e-93 ... 0.00000000e+00\n",
      " 0.00000000e+00 0.00000000e+00]\n",
      "Iteración 87: r = [1.08105618e-94 8.19035082e-96 5.26867043e-95 ... 0.00000000e+00\n",
      " 0.00000000e+00 0.00000000e+00]\n",
      "Iteración 88: r = [3.30001006e-96 2.51748870e-97 1.61660444e-96 ... 0.00000000e+00\n",
      " 0.00000000e+00 0.00000000e+00]\n",
      "Iteración 89: r = [9.89338879e-98 7.60042152e-99 4.87167264e-98 ... 0.00000000e+00\n",
      " 0.00000000e+00 0.00000000e+00]\n",
      "Iteración 90: r = [2.91323609e-099 2.25394889e-100 1.44197289e-099 ... 0.00000000e+000\n",
      " 0.00000000e+000 0.00000000e+000]\n",
      "Iteración 91: r = [8.42643077e-101 6.56624067e-102 4.19249687e-101 ... 0.00000000e+000\n",
      " 0.00000000e+000 0.00000000e+000]\n",
      "Iteración 92: r = [2.39432836e-102 1.87924990e-103 1.19744478e-102 ... 0.00000000e+000\n",
      " 0.00000000e+000 0.00000000e+000]\n",
      "Iteración 93: r = [6.68387284e-104 5.28413637e-105 3.35995730e-104 ... 0.00000000e+000\n",
      " 0.00000000e+000 0.00000000e+000]\n",
      "Iteración 94: r = [1.83318592e-105 1.45985441e-106 9.26261073e-106 ... 0.00000000e+000\n",
      " 0.00000000e+000 0.00000000e+000]\n",
      "Iteración 95: r = [4.94020165e-107 3.96289391e-108 2.50886458e-107 ... 0.00000000e+000\n",
      " 0.00000000e+000 0.00000000e+000]\n",
      "Iteración 96: r = [1.30817106e-108 1.05706196e-109 6.67704348e-109 ... 0.00000000e+000\n",
      " 0.00000000e+000 0.00000000e+000]\n",
      "Iteración 97: r = [3.40395050e-110 2.77068429e-111 1.74609952e-110 ... 0.00000000e+000\n",
      " 0.00000000e+000 0.00000000e+000]\n",
      "Iteración 98: r = [8.70387298e-112 7.13642714e-113 4.48684586e-112 ... 0.00000000e+000\n",
      " 0.00000000e+000 0.00000000e+000]\n",
      "Iteración 99: r = [2.18704792e-113 1.80627924e-114 1.13293381e-113 ... 0.00000000e+000\n",
      " 0.00000000e+000 0.00000000e+000]\n"
     ]
    }
   ],
   "source": [
    "#Corremos con 100 iteraciones\n",
    "real = pagerank1(MA, 100)"
   ]
  },
  {
   "cell_type": "code",
   "execution_count": 124,
   "metadata": {},
   "outputs": [
    {
     "name": "stdout",
     "output_type": "stream",
     "text": [
      "El arreglo luce: [5.40032486e-115 4.49258324e-116 2.81097339e-115 ... 0.00000000e+000\n",
      " 0.00000000e+000 0.00000000e+000] Mide: (70068,)\n"
     ]
    }
   ],
   "source": [
    "#visualizamos la ultima iteracion del arreglo  \n",
    "real.shape\n",
    "real\n",
    "print(\"El arreglo luce:\", real, \"Mide:\", real.shape)"
   ]
  },
  {
   "cell_type": "code",
   "execution_count": 99,
   "metadata": {},
   "outputs": [
    {
     "data": {
      "text/plain": [
       "array([35033, 46703, 46704, ...,    64,     2,     0], dtype=int64)"
      ]
     },
     "execution_count": 99,
     "metadata": {},
     "output_type": "execute_result"
    }
   ],
   "source": [
    "#Ordenamos los nodos deacuerdo a la ultima iteracion\n",
    "np.argsort(real)"
   ]
  },
  {
   "cell_type": "code",
   "execution_count": 100,
   "metadata": {},
   "outputs": [
    {
     "name": "stdout",
     "output_type": "stream",
     "text": [
      "Iteración 0: r = [1.42718502e-05 1.42718502e-05 1.42718502e-05 ... 1.42718502e-05\n",
      " 1.42718502e-05 1.42718502e-05]\n",
      "Iteración 1: r = [1.42718502e-05 1.42718502e-05 1.42718502e-05 ... 0.00000000e+00\n",
      " 1.42718502e-05 0.00000000e+00]\n",
      "Iteración 2: r = [1.35954592e-05 1.41713442e-05 1.42718502e-05 ... 0.00000000e+00\n",
      " 0.00000000e+00 0.00000000e+00]\n",
      "Iteración 3: r = [1.27152564e-05 1.22204316e-05 1.28771213e-05 ... 0.00000000e+00\n",
      " 0.00000000e+00 0.00000000e+00]\n",
      "Iteración 4: r = [1.05325596e-05 8.77588088e-06 9.96700631e-06 ... 0.00000000e+00\n",
      " 0.00000000e+00 0.00000000e+00]\n",
      "Iteración 5: r = [7.06056276e-06 4.98473195e-06 6.50321028e-06 ... 0.00000000e+00\n",
      " 0.00000000e+00 0.00000000e+00]\n",
      "Iteración 6: r = [4.00659030e-06 2.38672102e-06 3.56353666e-06 ... 0.00000000e+00\n",
      " 0.00000000e+00 0.00000000e+00]\n",
      "Iteración 7: r = [1.90391237e-06 9.74205705e-07 1.68155850e-06 ... 0.00000000e+00\n",
      " 0.00000000e+00 0.00000000e+00]\n",
      "Iteración 8: r = [8.03338858e-07 3.49274418e-07 6.89827964e-07 ... 0.00000000e+00\n",
      " 0.00000000e+00 0.00000000e+00]\n",
      "Iteración 9: r = [2.97570533e-07 1.11124673e-07 2.51382288e-07 ... 0.00000000e+00\n",
      " 0.00000000e+00 0.00000000e+00]\n",
      "Iteración 10: r = [1.00230649e-07 3.22652129e-08 8.26076395e-08 ... 0.00000000e+00\n",
      " 0.00000000e+00 0.00000000e+00]\n",
      "Iteración 11: r = [3.08216498e-08 8.68904937e-09 2.48719495e-08 ... 0.00000000e+00\n",
      " 0.00000000e+00 0.00000000e+00]\n",
      "Iteración 12: r = [8.79010601e-09 2.21898825e-09 6.97121364e-09 ... 0.00000000e+00\n",
      " 0.00000000e+00 0.00000000e+00]\n",
      "Iteración 13: r = [2.35112790e-09 5.39262004e-10 1.82597481e-09 ... 0.00000000e+00\n",
      " 0.00000000e+00 0.00000000e+00]\n",
      "Iteración 14: r = [5.97546247e-10 1.24290245e-10 4.44553535e-10 ... 0.00000000e+00\n",
      " 0.00000000e+00 0.00000000e+00]\n",
      "Iteración 15: r = [1.39382702e-10 2.71088657e-11 1.03547303e-10 ... 0.00000000e+00\n",
      " 0.00000000e+00 0.00000000e+00]\n",
      "Iteración 16: r = [3.16748438e-11 5.65844590e-12 2.28666047e-11 ... 0.00000000e+00\n",
      " 0.00000000e+00 0.00000000e+00]\n",
      "Iteración 17: r = [6.80323495e-12 1.13126142e-12 4.85475865e-12 ... 0.00000000e+00\n",
      " 0.00000000e+00 0.00000000e+00]\n",
      "Iteración 18: r = [1.41059715e-12 2.17638599e-13 9.86094811e-13 ... 0.00000000e+00\n",
      " 0.00000000e+00 0.00000000e+00]\n",
      "Iteración 19: r = [2.79638256e-13 4.03592293e-14 1.92562513e-13 ... 0.00000000e+00\n",
      " 0.00000000e+00 0.00000000e+00]\n"
     ]
    }
   ],
   "source": [
    "#Corremos el ultimo algoritmo pero ahora con solo 20 iteraciones\n",
    "real2 = pagerank1(MA, 20)"
   ]
  },
  {
   "cell_type": "code",
   "execution_count": null,
   "metadata": {},
   "outputs": [],
   "source": []
  },
  {
   "cell_type": "code",
   "execution_count": 101,
   "metadata": {},
   "outputs": [
    {
     "data": {
      "text/plain": [
       "array([35033, 46708, 46709, ...,    76,   101,   146], dtype=int64)"
      ]
     },
     "execution_count": 101,
     "metadata": {},
     "output_type": "execute_result"
    }
   ],
   "source": [
    "#Visualizamos como luce la relevancia de nodos\n",
    "np.argsort(real2)"
   ]
  },
  {
   "cell_type": "markdown",
   "metadata": {},
   "source": [
    "Podemos observar que aunque el algoritmo es el mismo la relevancia de los nodos cambio rotundamente  al correrlo solo con 20 iteraciones vemos que ahora el nodo mas importante es el 146 y no el nodo 0 como con 100 iteraciones"
   ]
  },
  {
   "cell_type": "markdown",
   "metadata": {},
   "source": [
    "## PageRank Escalado "
   ]
  },
  {
   "cell_type": "markdown",
   "metadata": {},
   "source": [
    "### PageRank Escalado con lambda de 0.8"
   ]
  },
  {
   "cell_type": "code",
   "execution_count": 105,
   "metadata": {},
   "outputs": [
    {
     "name": "stdout",
     "output_type": "stream",
     "text": [
      "Iteración 0: r = [1.42718502e-05 1.42718502e-05 1.42718502e-05 ... 1.42718502e-05\n",
      " 1.42718502e-05 1.42718502e-05]\n",
      "Iteración 1: r = [2.09784873e-05 2.09784873e-05 2.09784873e-05 ... 9.56100714e-06\n",
      " 2.09784873e-05 9.56100714e-06]\n",
      "Iteración 2: r = [2.53565440e-05 2.57251105e-05 2.57894343e-05 ... 9.00664444e-06\n",
      " 1.66554502e-05 9.00664444e-06]\n",
      "Iteración 3: r = [2.85917741e-05 2.85853341e-05 2.89646510e-05 ... 9.04720481e-06\n",
      " 1.62525204e-05 9.04720481e-06]\n",
      "Iteración 4: r = [3.04907837e-05 2.98341175e-05 3.05878399e-05 ... 9.08649334e-06\n",
      " 1.63242572e-05 9.08649334e-06]\n",
      "Iteración 5: r = [3.11992043e-05 3.01107221e-05 3.11881015e-05 ... 9.10203358e-06\n",
      " 1.63712283e-05 9.10203358e-06]\n",
      "Iteración 6: r = [3.13758024e-05 3.01154475e-05 3.13192645e-05 ... 9.10468873e-06\n",
      " 1.63863156e-05 9.10468873e-06]\n",
      "Iteración 7: r = [3.13797504e-05 3.00886668e-05 3.13220534e-05 ... 9.10412746e-06\n",
      " 1.63878784e-05 9.10412746e-06]\n",
      "Iteración 8: r = [3.13682008e-05 3.00776676e-05 3.13103771e-05 ... 9.10368079e-06\n",
      " 1.63869828e-05 9.10368079e-06]\n",
      "Iteración 9: r = [3.13625777e-05 3.00758143e-05 3.13055654e-05 ... 9.10355197e-06\n",
      " 1.63864966e-05 9.10355197e-06]\n",
      "Iteración 10: r = [3.13616320e-05 3.00761908e-05 3.13048024e-05 ... 9.10354589e-06\n",
      " 1.63863875e-05 9.10354589e-06]\n",
      "Iteración 11: r = [3.13617855e-05 3.00765147e-05 3.13049699e-05 ... 9.10355613e-06\n",
      " 1.63863928e-05 9.10355613e-06]\n",
      "Iteración 12: r = [3.13619367e-05 3.00766046e-05 3.13051094e-05 ... 9.10356076e-06\n",
      " 1.63864057e-05 9.10356076e-06]\n",
      "Iteración 13: r = [3.13619806e-05 3.00766078e-05 3.13051463e-05 ... 9.10356151e-06\n",
      " 1.63864101e-05 9.10356151e-06]\n",
      "Iteración 14: r = [3.13619831e-05 3.00766003e-05 3.13051469e-05 ... 9.10356136e-06\n",
      " 1.63864106e-05 9.10356136e-06]\n",
      "Iteración 15: r = [3.13619796e-05 3.00765971e-05 3.13051438e-05 ... 9.10356123e-06\n",
      " 1.63864103e-05 9.10356123e-06]\n",
      "Iteración 16: r = [3.13619781e-05 3.00765966e-05 3.13051425e-05 ... 9.10356120e-06\n",
      " 1.63864102e-05 9.10356120e-06]\n",
      "Iteración 17: r = [3.13619779e-05 3.00765967e-05 3.13051423e-05 ... 9.10356119e-06\n",
      " 1.63864102e-05 9.10356119e-06]\n",
      "Iteración 18: r = [3.13619779e-05 3.00765968e-05 3.13051423e-05 ... 9.10356120e-06\n",
      " 1.63864102e-05 9.10356120e-06]\n",
      "Iteración 19: r = [3.13619779e-05 3.00765969e-05 3.13051423e-05 ... 9.10356120e-06\n",
      " 1.63864102e-05 9.10356120e-06]\n",
      "Iteración 20: r = [3.13619780e-05 3.00765969e-05 3.13051424e-05 ... 9.10356120e-06\n",
      " 1.63864102e-05 9.10356120e-06]\n",
      "Iteración 21: r = [3.13619780e-05 3.00765969e-05 3.13051424e-05 ... 9.10356120e-06\n",
      " 1.63864102e-05 9.10356120e-06]\n",
      "Iteración 22: r = [3.13619780e-05 3.00765969e-05 3.13051424e-05 ... 9.10356120e-06\n",
      " 1.63864102e-05 9.10356120e-06]\n",
      "Iteración 23: r = [3.13619780e-05 3.00765969e-05 3.13051424e-05 ... 9.10356120e-06\n",
      " 1.63864102e-05 9.10356120e-06]\n",
      "Iteración 24: r = [3.13619780e-05 3.00765969e-05 3.13051424e-05 ... 9.10356120e-06\n",
      " 1.63864102e-05 9.10356120e-06]\n",
      "Iteración 25: r = [3.13619780e-05 3.00765969e-05 3.13051424e-05 ... 9.10356120e-06\n",
      " 1.63864102e-05 9.10356120e-06]\n",
      "Iteración 26: r = [3.13619780e-05 3.00765969e-05 3.13051424e-05 ... 9.10356120e-06\n",
      " 1.63864102e-05 9.10356120e-06]\n",
      "Iteración 27: r = [3.13619780e-05 3.00765969e-05 3.13051424e-05 ... 9.10356120e-06\n",
      " 1.63864102e-05 9.10356120e-06]\n",
      "Iteración 28: r = [3.13619780e-05 3.00765969e-05 3.13051424e-05 ... 9.10356120e-06\n",
      " 1.63864102e-05 9.10356120e-06]\n",
      "Iteración 29: r = [3.13619780e-05 3.00765969e-05 3.13051424e-05 ... 9.10356120e-06\n",
      " 1.63864102e-05 9.10356120e-06]\n",
      "Iteración 30: r = [3.13619780e-05 3.00765969e-05 3.13051424e-05 ... 9.10356120e-06\n",
      " 1.63864102e-05 9.10356120e-06]\n",
      "Iteración 31: r = [3.13619780e-05 3.00765969e-05 3.13051424e-05 ... 9.10356120e-06\n",
      " 1.63864102e-05 9.10356120e-06]\n",
      "Iteración 32: r = [3.13619780e-05 3.00765969e-05 3.13051424e-05 ... 9.10356120e-06\n",
      " 1.63864102e-05 9.10356120e-06]\n",
      "Iteración 33: r = [3.13619780e-05 3.00765969e-05 3.13051424e-05 ... 9.10356120e-06\n",
      " 1.63864102e-05 9.10356120e-06]\n",
      "Iteración 34: r = [3.13619780e-05 3.00765969e-05 3.13051424e-05 ... 9.10356120e-06\n",
      " 1.63864102e-05 9.10356120e-06]\n",
      "Iteración 35: r = [3.13619780e-05 3.00765969e-05 3.13051424e-05 ... 9.10356120e-06\n",
      " 1.63864102e-05 9.10356120e-06]\n",
      "Iteración 36: r = [3.13619780e-05 3.00765969e-05 3.13051424e-05 ... 9.10356120e-06\n",
      " 1.63864102e-05 9.10356120e-06]\n",
      "Iteración 37: r = [3.13619780e-05 3.00765969e-05 3.13051424e-05 ... 9.10356120e-06\n",
      " 1.63864102e-05 9.10356120e-06]\n",
      "Iteración 38: r = [3.13619780e-05 3.00765969e-05 3.13051424e-05 ... 9.10356120e-06\n",
      " 1.63864102e-05 9.10356120e-06]\n",
      "Iteración 39: r = [3.13619780e-05 3.00765969e-05 3.13051424e-05 ... 9.10356120e-06\n",
      " 1.63864102e-05 9.10356120e-06]\n",
      "Iteración 40: r = [3.13619780e-05 3.00765969e-05 3.13051424e-05 ... 9.10356120e-06\n",
      " 1.63864102e-05 9.10356120e-06]\n",
      "Iteración 41: r = [3.13619780e-05 3.00765969e-05 3.13051424e-05 ... 9.10356120e-06\n",
      " 1.63864102e-05 9.10356120e-06]\n",
      "Iteración 42: r = [3.13619780e-05 3.00765969e-05 3.13051424e-05 ... 9.10356120e-06\n",
      " 1.63864102e-05 9.10356120e-06]\n",
      "Iteración 43: r = [3.13619780e-05 3.00765969e-05 3.13051424e-05 ... 9.10356120e-06\n",
      " 1.63864102e-05 9.10356120e-06]\n",
      "Iteración 44: r = [3.13619780e-05 3.00765969e-05 3.13051424e-05 ... 9.10356120e-06\n",
      " 1.63864102e-05 9.10356120e-06]\n",
      "Iteración 45: r = [3.13619780e-05 3.00765969e-05 3.13051424e-05 ... 9.10356120e-06\n",
      " 1.63864102e-05 9.10356120e-06]\n",
      "Iteración 46: r = [3.13619780e-05 3.00765969e-05 3.13051424e-05 ... 9.10356120e-06\n",
      " 1.63864102e-05 9.10356120e-06]\n",
      "Iteración 47: r = [3.13619780e-05 3.00765969e-05 3.13051424e-05 ... 9.10356120e-06\n",
      " 1.63864102e-05 9.10356120e-06]\n",
      "Iteración 48: r = [3.13619780e-05 3.00765969e-05 3.13051424e-05 ... 9.10356120e-06\n",
      " 1.63864102e-05 9.10356120e-06]\n",
      "Iteración 49: r = [3.13619780e-05 3.00765969e-05 3.13051424e-05 ... 9.10356120e-06\n",
      " 1.63864102e-05 9.10356120e-06]\n",
      "Iteración 50: r = [3.13619780e-05 3.00765969e-05 3.13051424e-05 ... 9.10356120e-06\n",
      " 1.63864102e-05 9.10356120e-06]\n",
      "Iteración 51: r = [3.13619780e-05 3.00765969e-05 3.13051424e-05 ... 9.10356120e-06\n",
      " 1.63864102e-05 9.10356120e-06]\n",
      "Iteración 52: r = [3.13619780e-05 3.00765969e-05 3.13051424e-05 ... 9.10356120e-06\n",
      " 1.63864102e-05 9.10356120e-06]\n",
      "Iteración 53: r = [3.13619780e-05 3.00765969e-05 3.13051424e-05 ... 9.10356120e-06\n",
      " 1.63864102e-05 9.10356120e-06]\n",
      "Iteración 54: r = [3.13619780e-05 3.00765969e-05 3.13051424e-05 ... 9.10356120e-06\n",
      " 1.63864102e-05 9.10356120e-06]\n",
      "Iteración 55: r = [3.13619780e-05 3.00765969e-05 3.13051424e-05 ... 9.10356120e-06\n",
      " 1.63864102e-05 9.10356120e-06]\n",
      "Iteración 56: r = [3.13619780e-05 3.00765969e-05 3.13051424e-05 ... 9.10356120e-06\n",
      " 1.63864102e-05 9.10356120e-06]\n",
      "Iteración 57: r = [3.13619780e-05 3.00765969e-05 3.13051424e-05 ... 9.10356120e-06\n",
      " 1.63864102e-05 9.10356120e-06]\n",
      "Iteración 58: r = [3.13619780e-05 3.00765969e-05 3.13051424e-05 ... 9.10356120e-06\n",
      " 1.63864102e-05 9.10356120e-06]\n",
      "Iteración 59: r = [3.13619780e-05 3.00765969e-05 3.13051424e-05 ... 9.10356120e-06\n",
      " 1.63864102e-05 9.10356120e-06]\n",
      "Iteración 60: r = [3.13619780e-05 3.00765969e-05 3.13051424e-05 ... 9.10356120e-06\n",
      " 1.63864102e-05 9.10356120e-06]\n",
      "Iteración 61: r = [3.13619780e-05 3.00765969e-05 3.13051424e-05 ... 9.10356120e-06\n",
      " 1.63864102e-05 9.10356120e-06]\n",
      "Iteración 62: r = [3.13619780e-05 3.00765969e-05 3.13051424e-05 ... 9.10356120e-06\n",
      " 1.63864102e-05 9.10356120e-06]\n",
      "Iteración 63: r = [3.13619780e-05 3.00765969e-05 3.13051424e-05 ... 9.10356120e-06\n",
      " 1.63864102e-05 9.10356120e-06]\n",
      "Iteración 64: r = [3.13619780e-05 3.00765969e-05 3.13051424e-05 ... 9.10356120e-06\n",
      " 1.63864102e-05 9.10356120e-06]\n",
      "Iteración 65: r = [3.13619780e-05 3.00765969e-05 3.13051424e-05 ... 9.10356120e-06\n",
      " 1.63864102e-05 9.10356120e-06]\n",
      "Iteración 66: r = [3.13619780e-05 3.00765969e-05 3.13051424e-05 ... 9.10356120e-06\n",
      " 1.63864102e-05 9.10356120e-06]\n",
      "Iteración 67: r = [3.13619780e-05 3.00765969e-05 3.13051424e-05 ... 9.10356120e-06\n",
      " 1.63864102e-05 9.10356120e-06]\n",
      "Iteración 68: r = [3.13619780e-05 3.00765969e-05 3.13051424e-05 ... 9.10356120e-06\n",
      " 1.63864102e-05 9.10356120e-06]\n",
      "Iteración 69: r = [3.13619780e-05 3.00765969e-05 3.13051424e-05 ... 9.10356120e-06\n",
      " 1.63864102e-05 9.10356120e-06]\n",
      "Iteración 70: r = [3.13619780e-05 3.00765969e-05 3.13051424e-05 ... 9.10356120e-06\n",
      " 1.63864102e-05 9.10356120e-06]\n",
      "Iteración 71: r = [3.13619780e-05 3.00765969e-05 3.13051424e-05 ... 9.10356120e-06\n",
      " 1.63864102e-05 9.10356120e-06]\n",
      "Iteración 72: r = [3.13619780e-05 3.00765969e-05 3.13051424e-05 ... 9.10356120e-06\n",
      " 1.63864102e-05 9.10356120e-06]\n",
      "Iteración 73: r = [3.13619780e-05 3.00765969e-05 3.13051424e-05 ... 9.10356120e-06\n",
      " 1.63864102e-05 9.10356120e-06]\n",
      "Iteración 74: r = [3.13619780e-05 3.00765969e-05 3.13051424e-05 ... 9.10356120e-06\n",
      " 1.63864102e-05 9.10356120e-06]\n",
      "Iteración 75: r = [3.13619780e-05 3.00765969e-05 3.13051424e-05 ... 9.10356120e-06\n",
      " 1.63864102e-05 9.10356120e-06]\n",
      "Iteración 76: r = [3.13619780e-05 3.00765969e-05 3.13051424e-05 ... 9.10356120e-06\n",
      " 1.63864102e-05 9.10356120e-06]\n",
      "Iteración 77: r = [3.13619780e-05 3.00765969e-05 3.13051424e-05 ... 9.10356120e-06\n",
      " 1.63864102e-05 9.10356120e-06]\n",
      "Iteración 78: r = [3.13619780e-05 3.00765969e-05 3.13051424e-05 ... 9.10356120e-06\n",
      " 1.63864102e-05 9.10356120e-06]\n",
      "Iteración 79: r = [3.13619780e-05 3.00765969e-05 3.13051424e-05 ... 9.10356120e-06\n",
      " 1.63864102e-05 9.10356120e-06]\n",
      "Iteración 80: r = [3.13619780e-05 3.00765969e-05 3.13051424e-05 ... 9.10356120e-06\n",
      " 1.63864102e-05 9.10356120e-06]\n",
      "Iteración 81: r = [3.13619780e-05 3.00765969e-05 3.13051424e-05 ... 9.10356120e-06\n",
      " 1.63864102e-05 9.10356120e-06]\n",
      "Iteración 82: r = [3.13619780e-05 3.00765969e-05 3.13051424e-05 ... 9.10356120e-06\n",
      " 1.63864102e-05 9.10356120e-06]\n",
      "Iteración 83: r = [3.13619780e-05 3.00765969e-05 3.13051424e-05 ... 9.10356120e-06\n",
      " 1.63864102e-05 9.10356120e-06]\n",
      "Iteración 84: r = [3.13619780e-05 3.00765969e-05 3.13051424e-05 ... 9.10356120e-06\n"
     ]
    },
    {
     "name": "stdout",
     "output_type": "stream",
     "text": [
      " 1.63864102e-05 9.10356120e-06]\n",
      "Iteración 85: r = [3.13619780e-05 3.00765969e-05 3.13051424e-05 ... 9.10356120e-06\n",
      " 1.63864102e-05 9.10356120e-06]\n",
      "Iteración 86: r = [3.13619780e-05 3.00765969e-05 3.13051424e-05 ... 9.10356120e-06\n",
      " 1.63864102e-05 9.10356120e-06]\n",
      "Iteración 87: r = [3.13619780e-05 3.00765969e-05 3.13051424e-05 ... 9.10356120e-06\n",
      " 1.63864102e-05 9.10356120e-06]\n",
      "Iteración 88: r = [3.13619780e-05 3.00765969e-05 3.13051424e-05 ... 9.10356120e-06\n",
      " 1.63864102e-05 9.10356120e-06]\n",
      "Iteración 89: r = [3.13619780e-05 3.00765969e-05 3.13051424e-05 ... 9.10356120e-06\n",
      " 1.63864102e-05 9.10356120e-06]\n",
      "Iteración 90: r = [3.13619780e-05 3.00765969e-05 3.13051424e-05 ... 9.10356120e-06\n",
      " 1.63864102e-05 9.10356120e-06]\n",
      "Iteración 91: r = [3.13619780e-05 3.00765969e-05 3.13051424e-05 ... 9.10356120e-06\n",
      " 1.63864102e-05 9.10356120e-06]\n",
      "Iteración 92: r = [3.13619780e-05 3.00765969e-05 3.13051424e-05 ... 9.10356120e-06\n",
      " 1.63864102e-05 9.10356120e-06]\n",
      "Iteración 93: r = [3.13619780e-05 3.00765969e-05 3.13051424e-05 ... 9.10356120e-06\n",
      " 1.63864102e-05 9.10356120e-06]\n",
      "Iteración 94: r = [3.13619780e-05 3.00765969e-05 3.13051424e-05 ... 9.10356120e-06\n",
      " 1.63864102e-05 9.10356120e-06]\n",
      "Iteración 95: r = [3.13619780e-05 3.00765969e-05 3.13051424e-05 ... 9.10356120e-06\n",
      " 1.63864102e-05 9.10356120e-06]\n",
      "Iteración 96: r = [3.13619780e-05 3.00765969e-05 3.13051424e-05 ... 9.10356120e-06\n",
      " 1.63864102e-05 9.10356120e-06]\n",
      "Iteración 97: r = [3.13619780e-05 3.00765969e-05 3.13051424e-05 ... 9.10356120e-06\n",
      " 1.63864102e-05 9.10356120e-06]\n",
      "Iteración 98: r = [3.13619780e-05 3.00765969e-05 3.13051424e-05 ... 9.10356120e-06\n",
      " 1.63864102e-05 9.10356120e-06]\n",
      "Iteración 99: r = [3.13619780e-05 3.00765969e-05 3.13051424e-05 ... 9.10356120e-06\n",
      " 1.63864102e-05 9.10356120e-06]\n"
     ]
    }
   ],
   "source": [
    "#Corremos el algortimo pagerank pero ahora usando su variante escalada primero con 100 iteraciones y una lambda de 0.8\n",
    "realesca = pagerank_escalable_css1(csr_matrix(MA), 0.8, iter=100)"
   ]
  },
  {
   "cell_type": "code",
   "execution_count": 125,
   "metadata": {},
   "outputs": [
    {
     "name": "stdout",
     "output_type": "stream",
     "text": [
      "El arreglo luce: [3.13619780e-05 3.00765969e-05 3.13051424e-05 ... 9.10356120e-06\n",
      " 1.63864102e-05 9.10356120e-06] \n",
      "Mide: (70068,)\n"
     ]
    }
   ],
   "source": [
    "#Observamos como luce el arreglo de la ultima iteracion y su tamaño\n",
    "print(\"El arreglo luce:\", realesca, \"\\nMide:\", realesca.shape)\n"
   ]
  },
  {
   "cell_type": "code",
   "execution_count": 126,
   "metadata": {},
   "outputs": [
    {
     "data": {
      "text/plain": [
       "array([35033, 45862, 45863, ..., 16213, 12219,  5980], dtype=int64)"
      ]
     },
     "execution_count": 126,
     "metadata": {},
     "output_type": "execute_result"
    }
   ],
   "source": [
    "#Ordenamos en orden de relevancia y observamos que con este algoritmo el nodo mas importante es el 5980\n",
    "np.argsort(realesca)"
   ]
  },
  {
   "cell_type": "code",
   "execution_count": 127,
   "metadata": {},
   "outputs": [
    {
     "name": "stdout",
     "output_type": "stream",
     "text": [
      "Iteración 0: r = [1.42718502e-05 1.42718502e-05 1.42718502e-05 ... 1.42718502e-05\n",
      " 1.42718502e-05 1.42718502e-05]\n",
      "Iteración 1: r = [2.09784873e-05 2.09784873e-05 2.09784873e-05 ... 9.56100714e-06\n",
      " 2.09784873e-05 9.56100714e-06]\n",
      "Iteración 2: r = [2.53565440e-05 2.57251105e-05 2.57894343e-05 ... 9.00664444e-06\n",
      " 1.66554502e-05 9.00664444e-06]\n",
      "Iteración 3: r = [2.85917741e-05 2.85853341e-05 2.89646510e-05 ... 9.04720481e-06\n",
      " 1.62525204e-05 9.04720481e-06]\n",
      "Iteración 4: r = [3.04907837e-05 2.98341175e-05 3.05878399e-05 ... 9.08649334e-06\n",
      " 1.63242572e-05 9.08649334e-06]\n",
      "Iteración 5: r = [3.11992043e-05 3.01107221e-05 3.11881015e-05 ... 9.10203358e-06\n",
      " 1.63712283e-05 9.10203358e-06]\n",
      "Iteración 6: r = [3.13758024e-05 3.01154475e-05 3.13192645e-05 ... 9.10468873e-06\n",
      " 1.63863156e-05 9.10468873e-06]\n",
      "Iteración 7: r = [3.13797504e-05 3.00886668e-05 3.13220534e-05 ... 9.10412746e-06\n",
      " 1.63878784e-05 9.10412746e-06]\n",
      "Iteración 8: r = [3.13682008e-05 3.00776676e-05 3.13103771e-05 ... 9.10368079e-06\n",
      " 1.63869828e-05 9.10368079e-06]\n",
      "Iteración 9: r = [3.13625777e-05 3.00758143e-05 3.13055654e-05 ... 9.10355197e-06\n",
      " 1.63864966e-05 9.10355197e-06]\n",
      "Iteración 10: r = [3.13616320e-05 3.00761908e-05 3.13048024e-05 ... 9.10354589e-06\n",
      " 1.63863875e-05 9.10354589e-06]\n",
      "Iteración 11: r = [3.13617855e-05 3.00765147e-05 3.13049699e-05 ... 9.10355613e-06\n",
      " 1.63863928e-05 9.10355613e-06]\n",
      "Iteración 12: r = [3.13619367e-05 3.00766046e-05 3.13051094e-05 ... 9.10356076e-06\n",
      " 1.63864057e-05 9.10356076e-06]\n",
      "Iteración 13: r = [3.13619806e-05 3.00766078e-05 3.13051463e-05 ... 9.10356151e-06\n",
      " 1.63864101e-05 9.10356151e-06]\n",
      "Iteración 14: r = [3.13619831e-05 3.00766003e-05 3.13051469e-05 ... 9.10356136e-06\n",
      " 1.63864106e-05 9.10356136e-06]\n",
      "Iteración 15: r = [3.13619796e-05 3.00765971e-05 3.13051438e-05 ... 9.10356123e-06\n",
      " 1.63864103e-05 9.10356123e-06]\n",
      "Iteración 16: r = [3.13619781e-05 3.00765966e-05 3.13051425e-05 ... 9.10356120e-06\n",
      " 1.63864102e-05 9.10356120e-06]\n",
      "Iteración 17: r = [3.13619779e-05 3.00765967e-05 3.13051423e-05 ... 9.10356119e-06\n",
      " 1.63864102e-05 9.10356119e-06]\n",
      "Iteración 18: r = [3.13619779e-05 3.00765968e-05 3.13051423e-05 ... 9.10356120e-06\n",
      " 1.63864102e-05 9.10356120e-06]\n",
      "Iteración 19: r = [3.13619779e-05 3.00765969e-05 3.13051423e-05 ... 9.10356120e-06\n",
      " 1.63864102e-05 9.10356120e-06]\n"
     ]
    }
   ],
   "source": [
    "#Mismo algoritmo pero ahora con solo 20 iteraciones\n",
    "realesca2 = pagerank_escalable_css1(csr_matrix(MA), 0.8, iter=20)\n"
   ]
  },
  {
   "cell_type": "code",
   "execution_count": 107,
   "metadata": {},
   "outputs": [
    {
     "data": {
      "text/plain": [
       "array([35033, 45862, 45863, ..., 16213, 12219,  5980], dtype=int64)"
      ]
     },
     "execution_count": 107,
     "metadata": {},
     "output_type": "execute_result"
    }
   ],
   "source": [
    "#Observamos el orden de relevancia \n",
    "np.argsort(realesca2)"
   ]
  },
  {
   "cell_type": "markdown",
   "metadata": {},
   "source": [
    "Observamos que el algoritmo de pagerank difiere enormemente del algoritmo de pagerank escalado en cuanto a cuales son los nodos mas importantes ya que ahora el mas importante es el 5980\n",
    "Tambien observamos que el algoritmo de pagerank no se ve afectada en cuanto al numero de iteraciones si conservamos la misma lambda"
   ]
  },
  {
   "cell_type": "markdown",
   "metadata": {},
   "source": [
    "### PageRank con lambda de 0.9"
   ]
  },
  {
   "cell_type": "code",
   "execution_count": 128,
   "metadata": {},
   "outputs": [
    {
     "name": "stdout",
     "output_type": "stream",
     "text": [
      "Iteración 0: r = [1.42718502e-05 1.42718502e-05 1.42718502e-05 ... 1.42718502e-05\n",
      " 1.42718502e-05 1.42718502e-05]\n",
      "Iteración 1: r = [2.18168169e-05 2.18168169e-05 2.18168169e-05 ... 8.97215176e-06\n",
      " 2.18168169e-05 8.97215176e-06]\n",
      "Iteración 2: r = [2.73577950e-05 2.78242619e-05 2.79056717e-05 ... 8.27053647e-06\n",
      " 1.63454731e-05 8.27053647e-06]\n",
      "Iteración 3: r = [3.19642066e-05 3.18967287e-05 3.24266346e-05 ... 8.32828745e-06\n",
      " 1.57717703e-05 8.32828745e-06]\n",
      "Iteración 4: r = [3.50060527e-05 3.38970383e-05 3.50266694e-05 ... 8.39122009e-06\n",
      " 1.58866788e-05 8.39122009e-06]\n",
      "Iteración 5: r = [3.62826496e-05 3.43954887e-05 3.61083602e-05 ... 8.41922410e-06\n",
      " 1.59713222e-05 8.41922410e-06]\n",
      "Iteración 6: r = [3.66406647e-05 3.44050685e-05 3.63742653e-05 ... 8.42460686e-06\n",
      " 1.60019086e-05 8.42460686e-06]\n",
      "Iteración 7: r = [3.66496688e-05 3.43439897e-05 3.63806258e-05 ... 8.42332677e-06\n",
      " 1.60054729e-05 8.42332677e-06]\n",
      "Iteración 8: r = [3.66200349e-05 3.43157682e-05 3.63506670e-05 ... 8.42218072e-06\n",
      " 1.60031748e-05 8.42218072e-06]\n",
      "Iteración 9: r = [3.66038040e-05 3.43104188e-05 3.63367780e-05 ... 8.42180886e-06\n",
      " 1.60017715e-05 8.42180886e-06]\n",
      "Iteración 10: r = [3.66007330e-05 3.43116413e-05 3.63343003e-05 ... 8.42178912e-06\n",
      " 1.60014171e-05 8.42178912e-06]\n",
      "Iteración 11: r = [3.66012938e-05 3.43128247e-05 3.63349123e-05 ... 8.42182652e-06\n",
      " 1.60014367e-05 8.42182652e-06]\n",
      "Iteración 12: r = [3.66019151e-05 3.43131940e-05 3.63354853e-05 ... 8.42184556e-06\n",
      " 1.60014894e-05 8.42184556e-06]\n",
      "Iteración 13: r = [3.66021179e-05 3.43132087e-05 3.63356560e-05 ... 8.42184903e-06\n",
      " 1.60015100e-05 8.42184903e-06]\n",
      "Iteración 14: r = [3.66021310e-05 3.43131699e-05 3.63356593e-05 ... 8.42184827e-06\n",
      " 1.60015124e-05 8.42184827e-06]\n",
      "Iteración 15: r = [3.66021106e-05 3.43131514e-05 3.63356408e-05 ... 8.42184750e-06\n",
      " 1.60015109e-05 8.42184750e-06]\n",
      "Iteración 16: r = [3.66021008e-05 3.43131481e-05 3.63356322e-05 ... 8.42184727e-06\n",
      " 1.60015100e-05 8.42184727e-06]\n",
      "Iteración 17: r = [3.66020989e-05 3.43131489e-05 3.63356308e-05 ... 8.42184726e-06\n",
      " 1.60015098e-05 8.42184726e-06]\n",
      "Iteración 18: r = [3.66020992e-05 3.43131496e-05 3.63356312e-05 ... 8.42184728e-06\n",
      " 1.60015098e-05 8.42184728e-06]\n",
      "Iteración 19: r = [3.66020996e-05 3.43131499e-05 3.63356315e-05 ... 8.42184730e-06\n",
      " 1.60015099e-05 8.42184730e-06]\n"
     ]
    }
   ],
   "source": [
    "#corremos el algortimo de pagerank solo llamando la funcion y cambiando la lambda a 0.9 y con 20 iteraciones\n",
    "realesca3 = pagerank_escalable_css1(csr_matrix(MA), 0.9, iter=20)"
   ]
  },
  {
   "cell_type": "code",
   "execution_count": 129,
   "metadata": {},
   "outputs": [
    {
     "data": {
      "text/plain": [
       "array([35033, 45862, 45863, ..., 12219, 16213,  5980], dtype=int64)"
      ]
     },
     "execution_count": 129,
     "metadata": {},
     "output_type": "execute_result"
    }
   ],
   "source": [
    "#Visualizamos el arreglo \n",
    "np.argsort(realesca3)"
   ]
  },
  {
   "cell_type": "code",
   "execution_count": 112,
   "metadata": {},
   "outputs": [
    {
     "name": "stdout",
     "output_type": "stream",
     "text": [
      "Iteración 0: r = [1.42718502e-05 1.42718502e-05 1.42718502e-05 ... 1.42718502e-05\n",
      " 1.42718502e-05 1.42718502e-05]\n",
      "Iteración 1: r = [2.18168169e-05 2.18168169e-05 2.18168169e-05 ... 8.97215176e-06\n",
      " 2.18168169e-05 8.97215176e-06]\n",
      "Iteración 2: r = [2.73577950e-05 2.78242619e-05 2.79056717e-05 ... 8.27053647e-06\n",
      " 1.63454731e-05 8.27053647e-06]\n",
      "Iteración 3: r = [3.19642066e-05 3.18967287e-05 3.24266346e-05 ... 8.32828745e-06\n",
      " 1.57717703e-05 8.32828745e-06]\n",
      "Iteración 4: r = [3.50060527e-05 3.38970383e-05 3.50266694e-05 ... 8.39122009e-06\n",
      " 1.58866788e-05 8.39122009e-06]\n",
      "Iteración 5: r = [3.62826496e-05 3.43954887e-05 3.61083602e-05 ... 8.41922410e-06\n",
      " 1.59713222e-05 8.41922410e-06]\n",
      "Iteración 6: r = [3.66406647e-05 3.44050685e-05 3.63742653e-05 ... 8.42460686e-06\n",
      " 1.60019086e-05 8.42460686e-06]\n",
      "Iteración 7: r = [3.66496688e-05 3.43439897e-05 3.63806258e-05 ... 8.42332677e-06\n",
      " 1.60054729e-05 8.42332677e-06]\n",
      "Iteración 8: r = [3.66200349e-05 3.43157682e-05 3.63506670e-05 ... 8.42218072e-06\n",
      " 1.60031748e-05 8.42218072e-06]\n",
      "Iteración 9: r = [3.66038040e-05 3.43104188e-05 3.63367780e-05 ... 8.42180886e-06\n",
      " 1.60017715e-05 8.42180886e-06]\n",
      "Iteración 10: r = [3.66007330e-05 3.43116413e-05 3.63343003e-05 ... 8.42178912e-06\n",
      " 1.60014171e-05 8.42178912e-06]\n",
      "Iteración 11: r = [3.66012938e-05 3.43128247e-05 3.63349123e-05 ... 8.42182652e-06\n",
      " 1.60014367e-05 8.42182652e-06]\n",
      "Iteración 12: r = [3.66019151e-05 3.43131940e-05 3.63354853e-05 ... 8.42184556e-06\n",
      " 1.60014894e-05 8.42184556e-06]\n",
      "Iteración 13: r = [3.66021179e-05 3.43132087e-05 3.63356560e-05 ... 8.42184903e-06\n",
      " 1.60015100e-05 8.42184903e-06]\n",
      "Iteración 14: r = [3.66021310e-05 3.43131699e-05 3.63356593e-05 ... 8.42184827e-06\n",
      " 1.60015124e-05 8.42184827e-06]\n",
      "Iteración 15: r = [3.66021106e-05 3.43131514e-05 3.63356408e-05 ... 8.42184750e-06\n",
      " 1.60015109e-05 8.42184750e-06]\n",
      "Iteración 16: r = [3.66021008e-05 3.43131481e-05 3.63356322e-05 ... 8.42184727e-06\n",
      " 1.60015100e-05 8.42184727e-06]\n",
      "Iteración 17: r = [3.66020989e-05 3.43131489e-05 3.63356308e-05 ... 8.42184726e-06\n",
      " 1.60015098e-05 8.42184726e-06]\n",
      "Iteración 18: r = [3.66020992e-05 3.43131496e-05 3.63356312e-05 ... 8.42184728e-06\n",
      " 1.60015098e-05 8.42184728e-06]\n",
      "Iteración 19: r = [3.66020996e-05 3.43131499e-05 3.63356315e-05 ... 8.42184730e-06\n",
      " 1.60015099e-05 8.42184730e-06]\n",
      "Iteración 20: r = [3.66020998e-05 3.43131499e-05 3.63356316e-05 ... 8.42184730e-06\n",
      " 1.60015099e-05 8.42184730e-06]\n",
      "Iteración 21: r = [3.66020998e-05 3.43131499e-05 3.63356316e-05 ... 8.42184730e-06\n",
      " 1.60015099e-05 8.42184730e-06]\n",
      "Iteración 22: r = [3.66020998e-05 3.43131498e-05 3.63356316e-05 ... 8.42184730e-06\n",
      " 1.60015099e-05 8.42184730e-06]\n",
      "Iteración 23: r = [3.66020998e-05 3.43131498e-05 3.63356316e-05 ... 8.42184730e-06\n",
      " 1.60015099e-05 8.42184730e-06]\n",
      "Iteración 24: r = [3.66020998e-05 3.43131498e-05 3.63356316e-05 ... 8.42184730e-06\n",
      " 1.60015099e-05 8.42184730e-06]\n",
      "Iteración 25: r = [3.66020998e-05 3.43131498e-05 3.63356316e-05 ... 8.42184730e-06\n",
      " 1.60015099e-05 8.42184730e-06]\n",
      "Iteración 26: r = [3.66020998e-05 3.43131498e-05 3.63356316e-05 ... 8.42184730e-06\n",
      " 1.60015099e-05 8.42184730e-06]\n",
      "Iteración 27: r = [3.66020998e-05 3.43131498e-05 3.63356316e-05 ... 8.42184730e-06\n",
      " 1.60015099e-05 8.42184730e-06]\n",
      "Iteración 28: r = [3.66020998e-05 3.43131498e-05 3.63356316e-05 ... 8.42184730e-06\n",
      " 1.60015099e-05 8.42184730e-06]\n",
      "Iteración 29: r = [3.66020998e-05 3.43131498e-05 3.63356316e-05 ... 8.42184730e-06\n",
      " 1.60015099e-05 8.42184730e-06]\n",
      "Iteración 30: r = [3.66020998e-05 3.43131498e-05 3.63356316e-05 ... 8.42184730e-06\n",
      " 1.60015099e-05 8.42184730e-06]\n",
      "Iteración 31: r = [3.66020998e-05 3.43131498e-05 3.63356316e-05 ... 8.42184730e-06\n",
      " 1.60015099e-05 8.42184730e-06]\n",
      "Iteración 32: r = [3.66020998e-05 3.43131498e-05 3.63356316e-05 ... 8.42184730e-06\n",
      " 1.60015099e-05 8.42184730e-06]\n",
      "Iteración 33: r = [3.66020998e-05 3.43131498e-05 3.63356316e-05 ... 8.42184730e-06\n",
      " 1.60015099e-05 8.42184730e-06]\n",
      "Iteración 34: r = [3.66020998e-05 3.43131498e-05 3.63356316e-05 ... 8.42184730e-06\n",
      " 1.60015099e-05 8.42184730e-06]\n",
      "Iteración 35: r = [3.66020998e-05 3.43131498e-05 3.63356316e-05 ... 8.42184730e-06\n",
      " 1.60015099e-05 8.42184730e-06]\n",
      "Iteración 36: r = [3.66020998e-05 3.43131498e-05 3.63356316e-05 ... 8.42184730e-06\n",
      " 1.60015099e-05 8.42184730e-06]\n",
      "Iteración 37: r = [3.66020998e-05 3.43131498e-05 3.63356316e-05 ... 8.42184730e-06\n",
      " 1.60015099e-05 8.42184730e-06]\n",
      "Iteración 38: r = [3.66020998e-05 3.43131498e-05 3.63356316e-05 ... 8.42184730e-06\n",
      " 1.60015099e-05 8.42184730e-06]\n",
      "Iteración 39: r = [3.66020998e-05 3.43131498e-05 3.63356316e-05 ... 8.42184730e-06\n",
      " 1.60015099e-05 8.42184730e-06]\n",
      "Iteración 40: r = [3.66020998e-05 3.43131498e-05 3.63356316e-05 ... 8.42184730e-06\n",
      " 1.60015099e-05 8.42184730e-06]\n",
      "Iteración 41: r = [3.66020998e-05 3.43131498e-05 3.63356316e-05 ... 8.42184730e-06\n",
      " 1.60015099e-05 8.42184730e-06]\n",
      "Iteración 42: r = [3.66020998e-05 3.43131498e-05 3.63356316e-05 ... 8.42184730e-06\n",
      " 1.60015099e-05 8.42184730e-06]\n",
      "Iteración 43: r = [3.66020998e-05 3.43131498e-05 3.63356316e-05 ... 8.42184730e-06\n",
      " 1.60015099e-05 8.42184730e-06]\n",
      "Iteración 44: r = [3.66020998e-05 3.43131498e-05 3.63356316e-05 ... 8.42184730e-06\n",
      " 1.60015099e-05 8.42184730e-06]\n",
      "Iteración 45: r = [3.66020998e-05 3.43131498e-05 3.63356316e-05 ... 8.42184730e-06\n",
      " 1.60015099e-05 8.42184730e-06]\n",
      "Iteración 46: r = [3.66020998e-05 3.43131498e-05 3.63356316e-05 ... 8.42184730e-06\n",
      " 1.60015099e-05 8.42184730e-06]\n",
      "Iteración 47: r = [3.66020998e-05 3.43131498e-05 3.63356316e-05 ... 8.42184730e-06\n",
      " 1.60015099e-05 8.42184730e-06]\n",
      "Iteración 48: r = [3.66020998e-05 3.43131498e-05 3.63356316e-05 ... 8.42184730e-06\n",
      " 1.60015099e-05 8.42184730e-06]\n",
      "Iteración 49: r = [3.66020998e-05 3.43131498e-05 3.63356316e-05 ... 8.42184730e-06\n",
      " 1.60015099e-05 8.42184730e-06]\n",
      "Iteración 50: r = [3.66020998e-05 3.43131498e-05 3.63356316e-05 ... 8.42184730e-06\n",
      " 1.60015099e-05 8.42184730e-06]\n",
      "Iteración 51: r = [3.66020998e-05 3.43131498e-05 3.63356316e-05 ... 8.42184730e-06\n",
      " 1.60015099e-05 8.42184730e-06]\n",
      "Iteración 52: r = [3.66020998e-05 3.43131498e-05 3.63356316e-05 ... 8.42184730e-06\n",
      " 1.60015099e-05 8.42184730e-06]\n",
      "Iteración 53: r = [3.66020998e-05 3.43131498e-05 3.63356316e-05 ... 8.42184730e-06\n",
      " 1.60015099e-05 8.42184730e-06]\n",
      "Iteración 54: r = [3.66020998e-05 3.43131498e-05 3.63356316e-05 ... 8.42184730e-06\n",
      " 1.60015099e-05 8.42184730e-06]\n",
      "Iteración 55: r = [3.66020998e-05 3.43131498e-05 3.63356316e-05 ... 8.42184730e-06\n",
      " 1.60015099e-05 8.42184730e-06]\n",
      "Iteración 56: r = [3.66020998e-05 3.43131498e-05 3.63356316e-05 ... 8.42184730e-06\n",
      " 1.60015099e-05 8.42184730e-06]\n",
      "Iteración 57: r = [3.66020998e-05 3.43131498e-05 3.63356316e-05 ... 8.42184730e-06\n",
      " 1.60015099e-05 8.42184730e-06]\n",
      "Iteración 58: r = [3.66020998e-05 3.43131498e-05 3.63356316e-05 ... 8.42184730e-06\n",
      " 1.60015099e-05 8.42184730e-06]\n",
      "Iteración 59: r = [3.66020998e-05 3.43131498e-05 3.63356316e-05 ... 8.42184730e-06\n",
      " 1.60015099e-05 8.42184730e-06]\n",
      "Iteración 60: r = [3.66020998e-05 3.43131498e-05 3.63356316e-05 ... 8.42184730e-06\n",
      " 1.60015099e-05 8.42184730e-06]\n",
      "Iteración 61: r = [3.66020998e-05 3.43131498e-05 3.63356316e-05 ... 8.42184730e-06\n",
      " 1.60015099e-05 8.42184730e-06]\n",
      "Iteración 62: r = [3.66020998e-05 3.43131498e-05 3.63356316e-05 ... 8.42184730e-06\n",
      " 1.60015099e-05 8.42184730e-06]\n",
      "Iteración 63: r = [3.66020998e-05 3.43131498e-05 3.63356316e-05 ... 8.42184730e-06\n",
      " 1.60015099e-05 8.42184730e-06]\n",
      "Iteración 64: r = [3.66020998e-05 3.43131498e-05 3.63356316e-05 ... 8.42184730e-06\n",
      " 1.60015099e-05 8.42184730e-06]\n",
      "Iteración 65: r = [3.66020998e-05 3.43131498e-05 3.63356316e-05 ... 8.42184730e-06\n",
      " 1.60015099e-05 8.42184730e-06]\n",
      "Iteración 66: r = [3.66020998e-05 3.43131498e-05 3.63356316e-05 ... 8.42184730e-06\n",
      " 1.60015099e-05 8.42184730e-06]\n",
      "Iteración 67: r = [3.66020998e-05 3.43131498e-05 3.63356316e-05 ... 8.42184730e-06\n",
      " 1.60015099e-05 8.42184730e-06]\n",
      "Iteración 68: r = [3.66020998e-05 3.43131498e-05 3.63356316e-05 ... 8.42184730e-06\n",
      " 1.60015099e-05 8.42184730e-06]\n",
      "Iteración 69: r = [3.66020998e-05 3.43131498e-05 3.63356316e-05 ... 8.42184730e-06\n",
      " 1.60015099e-05 8.42184730e-06]\n",
      "Iteración 70: r = [3.66020998e-05 3.43131498e-05 3.63356316e-05 ... 8.42184730e-06\n",
      " 1.60015099e-05 8.42184730e-06]\n",
      "Iteración 71: r = [3.66020998e-05 3.43131498e-05 3.63356316e-05 ... 8.42184730e-06\n",
      " 1.60015099e-05 8.42184730e-06]\n",
      "Iteración 72: r = [3.66020998e-05 3.43131498e-05 3.63356316e-05 ... 8.42184730e-06\n",
      " 1.60015099e-05 8.42184730e-06]\n",
      "Iteración 73: r = [3.66020998e-05 3.43131498e-05 3.63356316e-05 ... 8.42184730e-06\n",
      " 1.60015099e-05 8.42184730e-06]\n",
      "Iteración 74: r = [3.66020998e-05 3.43131498e-05 3.63356316e-05 ... 8.42184730e-06\n",
      " 1.60015099e-05 8.42184730e-06]\n",
      "Iteración 75: r = [3.66020998e-05 3.43131498e-05 3.63356316e-05 ... 8.42184730e-06\n",
      " 1.60015099e-05 8.42184730e-06]\n",
      "Iteración 76: r = [3.66020998e-05 3.43131498e-05 3.63356316e-05 ... 8.42184730e-06\n",
      " 1.60015099e-05 8.42184730e-06]\n",
      "Iteración 77: r = [3.66020998e-05 3.43131498e-05 3.63356316e-05 ... 8.42184730e-06\n",
      " 1.60015099e-05 8.42184730e-06]\n",
      "Iteración 78: r = [3.66020998e-05 3.43131498e-05 3.63356316e-05 ... 8.42184730e-06\n",
      " 1.60015099e-05 8.42184730e-06]\n",
      "Iteración 79: r = [3.66020998e-05 3.43131498e-05 3.63356316e-05 ... 8.42184730e-06\n",
      " 1.60015099e-05 8.42184730e-06]\n",
      "Iteración 80: r = [3.66020998e-05 3.43131498e-05 3.63356316e-05 ... 8.42184730e-06\n",
      " 1.60015099e-05 8.42184730e-06]\n",
      "Iteración 81: r = [3.66020998e-05 3.43131498e-05 3.63356316e-05 ... 8.42184730e-06\n",
      " 1.60015099e-05 8.42184730e-06]\n",
      "Iteración 82: r = [3.66020998e-05 3.43131498e-05 3.63356316e-05 ... 8.42184730e-06\n"
     ]
    },
    {
     "name": "stdout",
     "output_type": "stream",
     "text": [
      " 1.60015099e-05 8.42184730e-06]\n",
      "Iteración 83: r = [3.66020998e-05 3.43131498e-05 3.63356316e-05 ... 8.42184730e-06\n",
      " 1.60015099e-05 8.42184730e-06]\n",
      "Iteración 84: r = [3.66020998e-05 3.43131498e-05 3.63356316e-05 ... 8.42184730e-06\n",
      " 1.60015099e-05 8.42184730e-06]\n",
      "Iteración 85: r = [3.66020998e-05 3.43131498e-05 3.63356316e-05 ... 8.42184730e-06\n",
      " 1.60015099e-05 8.42184730e-06]\n",
      "Iteración 86: r = [3.66020998e-05 3.43131498e-05 3.63356316e-05 ... 8.42184730e-06\n",
      " 1.60015099e-05 8.42184730e-06]\n",
      "Iteración 87: r = [3.66020998e-05 3.43131498e-05 3.63356316e-05 ... 8.42184730e-06\n",
      " 1.60015099e-05 8.42184730e-06]\n",
      "Iteración 88: r = [3.66020998e-05 3.43131498e-05 3.63356316e-05 ... 8.42184730e-06\n",
      " 1.60015099e-05 8.42184730e-06]\n",
      "Iteración 89: r = [3.66020998e-05 3.43131498e-05 3.63356316e-05 ... 8.42184730e-06\n",
      " 1.60015099e-05 8.42184730e-06]\n",
      "Iteración 90: r = [3.66020998e-05 3.43131498e-05 3.63356316e-05 ... 8.42184730e-06\n",
      " 1.60015099e-05 8.42184730e-06]\n",
      "Iteración 91: r = [3.66020998e-05 3.43131498e-05 3.63356316e-05 ... 8.42184730e-06\n",
      " 1.60015099e-05 8.42184730e-06]\n",
      "Iteración 92: r = [3.66020998e-05 3.43131498e-05 3.63356316e-05 ... 8.42184730e-06\n",
      " 1.60015099e-05 8.42184730e-06]\n",
      "Iteración 93: r = [3.66020998e-05 3.43131498e-05 3.63356316e-05 ... 8.42184730e-06\n",
      " 1.60015099e-05 8.42184730e-06]\n",
      "Iteración 94: r = [3.66020998e-05 3.43131498e-05 3.63356316e-05 ... 8.42184730e-06\n",
      " 1.60015099e-05 8.42184730e-06]\n",
      "Iteración 95: r = [3.66020998e-05 3.43131498e-05 3.63356316e-05 ... 8.42184730e-06\n",
      " 1.60015099e-05 8.42184730e-06]\n",
      "Iteración 96: r = [3.66020998e-05 3.43131498e-05 3.63356316e-05 ... 8.42184730e-06\n",
      " 1.60015099e-05 8.42184730e-06]\n",
      "Iteración 97: r = [3.66020998e-05 3.43131498e-05 3.63356316e-05 ... 8.42184730e-06\n",
      " 1.60015099e-05 8.42184730e-06]\n",
      "Iteración 98: r = [3.66020998e-05 3.43131498e-05 3.63356316e-05 ... 8.42184730e-06\n",
      " 1.60015099e-05 8.42184730e-06]\n",
      "Iteración 99: r = [3.66020998e-05 3.43131498e-05 3.63356316e-05 ... 8.42184730e-06\n",
      " 1.60015099e-05 8.42184730e-06]\n"
     ]
    }
   ],
   "source": [
    "#El mismo algortimo pero ahora con 100 iteraciones y la misma lambda \n",
    "realesca4 = pagerank_escalable_css1(csr_matrix(MA), 0.9, iter=100)\n"
   ]
  },
  {
   "cell_type": "code",
   "execution_count": 130,
   "metadata": {},
   "outputs": [
    {
     "data": {
      "text/plain": [
       "array([35033, 45862, 45863, ..., 12219, 16213,  5980], dtype=int64)"
      ]
     },
     "execution_count": 130,
     "metadata": {},
     "output_type": "execute_result"
    }
   ],
   "source": [
    "#visualizamos el arreglo para saber la relevancia \n",
    "np.argsort(realesca4)"
   ]
  },
  {
   "cell_type": "markdown",
   "metadata": {},
   "source": [
    "Observamos que el valor no difiere ni cuando le cambiamos la lambda ni cuando le cambiamos el numero de iteraciones usando el algortimo de pagerank \n",
    "por lo que podemos deducir que algoritmo es muy estable"
   ]
  }
 ],
 "metadata": {
  "kernelspec": {
   "display_name": "Python 3",
   "language": "python",
   "name": "python3"
  },
  "language_info": {
   "codemirror_mode": {
    "name": "ipython",
    "version": 3
   },
   "file_extension": ".py",
   "mimetype": "text/x-python",
   "name": "python",
   "nbconvert_exporter": "python",
   "pygments_lexer": "ipython3",
   "version": "3.7.4"
  }
 },
 "nbformat": 4,
 "nbformat_minor": 2
}
